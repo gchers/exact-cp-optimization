{
 "cells": [
  {
   "cell_type": "markdown",
   "metadata": {},
   "source": [
    "# Exact Optimization of Conformal Predictors via Incremental and Decremental Learning\n",
    "\n",
    "This notebook documents (and allows to replicate) our experiments.\n",
    "We define each nonconformity measure and its optimized version (whose name is denoted by `_fast`).\n",
    "We then evaluate each of them for CP, and then compare the optimized ones with ICP."
   ]
  },
  {
   "cell_type": "markdown",
   "metadata": {
    "toc": true
   },
   "source": [
    "<h1>Table of Contents<span class=\"tocSkip\"></span></h1>\n",
    "<div class=\"toc\"><ul class=\"toc-item\"><li><span><a href=\"#Exact-Optimization-of-Conformal-Predictors-via-Incremental-and-Decremental-Learning\" data-toc-modified-id=\"Exact-Optimization-of-Conformal-Predictors-via-Incremental-and-Decremental-Learning-1\"><span class=\"toc-item-num\">1&nbsp;&nbsp;</span>Exact Optimization of Conformal Predictors via Incremental and Decremental Learning</a></span></li><li><span><a href=\"#Imports-and-multiprocessing-settings\" data-toc-modified-id=\"Imports-and-multiprocessing-settings-2\"><span class=\"toc-item-num\">2&nbsp;&nbsp;</span>Imports and multiprocessing settings</a></span></li><li><span><a href=\"#Definitions\" data-toc-modified-id=\"Definitions-3\"><span class=\"toc-item-num\">3&nbsp;&nbsp;</span>Definitions</a></span><ul class=\"toc-item\"><li><span><a href=\"#Nonconformity-measures\" data-toc-modified-id=\"Nonconformity-measures-3.1\"><span class=\"toc-item-num\">3.1&nbsp;&nbsp;</span>Nonconformity measures</a></span><ul class=\"toc-item\"><li><span><a href=\"#Simplified-k-NN-nonconformity-measure\" data-toc-modified-id=\"Simplified-k-NN-nonconformity-measure-3.1.1\"><span class=\"toc-item-num\">3.1.1&nbsp;&nbsp;</span>Simplified k-NN nonconformity measure</a></span></li><li><span><a href=\"#k-NN-nonconformity-measure\" data-toc-modified-id=\"k-NN-nonconformity-measure-3.1.2\"><span class=\"toc-item-num\">3.1.2&nbsp;&nbsp;</span>k-NN nonconformity measure</a></span></li><li><span><a href=\"#1-NN-nonconformity-measure\" data-toc-modified-id=\"1-NN-nonconformity-measure-3.1.3\"><span class=\"toc-item-num\">3.1.3&nbsp;&nbsp;</span>1-NN nonconformity measure</a></span></li><li><span><a href=\"#KDE\" data-toc-modified-id=\"KDE-3.1.4\"><span class=\"toc-item-num\">3.1.4&nbsp;&nbsp;</span>KDE</a></span></li><li><span><a href=\"#Least-squares-SVM\" data-toc-modified-id=\"Least-squares-SVM-3.1.5\"><span class=\"toc-item-num\">3.1.5&nbsp;&nbsp;</span>Least-squares SVM</a></span></li></ul></li><li><span><a href=\"#Random-forest\" data-toc-modified-id=\"Random-forest-3.2\"><span class=\"toc-item-num\">3.2&nbsp;&nbsp;</span>Random forest</a></span></li><li><span><a href=\"#Conformal-Prediction\" data-toc-modified-id=\"Conformal-Prediction-3.3\"><span class=\"toc-item-num\">3.3&nbsp;&nbsp;</span>Conformal Prediction</a></span></li></ul></li><li><span><a href=\"#Correctness\" data-toc-modified-id=\"Correctness-4\"><span class=\"toc-item-num\">4&nbsp;&nbsp;</span>Correctness</a></span><ul class=\"toc-item\"><li><span><a href=\"#Unit-test-for-CP\" data-toc-modified-id=\"Unit-test-for-CP-4.1\"><span class=\"toc-item-num\">4.1&nbsp;&nbsp;</span>Unit test for CP</a></span></li><li><span><a href=\"#Verify-that-optimized-NCMs-are-equivalent-to-unoptimized-ones\" data-toc-modified-id=\"Verify-that-optimized-NCMs-are-equivalent-to-unoptimized-ones-4.2\"><span class=\"toc-item-num\">4.2&nbsp;&nbsp;</span>Verify that optimized NCMs are equivalent to unoptimized ones</a></span></li></ul></li><li><span><a href=\"#Computational-performance\" data-toc-modified-id=\"Computational-performance-5\"><span class=\"toc-item-num\">5&nbsp;&nbsp;</span>Computational performance</a></span><ul class=\"toc-item\"><li><span><a href=\"#Note-on-the-experiments-(Eli)\" data-toc-modified-id=\"Note-on-the-experiments-(Eli)-5.1\"><span class=\"toc-item-num\">5.1&nbsp;&nbsp;</span>Note on the experiments (Eli)</a></span></li><li><span><a href=\"#Experiment\" data-toc-modified-id=\"Experiment-5.2\"><span class=\"toc-item-num\">5.2&nbsp;&nbsp;</span>Experiment</a></span><ul class=\"toc-item\"><li><span><a href=\"#CP-vs-optimized-CP\" data-toc-modified-id=\"CP-vs-optimized-CP-5.2.1\"><span class=\"toc-item-num\">5.2.1&nbsp;&nbsp;</span>CP vs optimized CP</a></span></li><li><span><a href=\"#ICP\" data-toc-modified-id=\"ICP-5.2.2\"><span class=\"toc-item-num\">5.2.2&nbsp;&nbsp;</span>ICP</a></span></li></ul></li><li><span><a href=\"#Plots\" data-toc-modified-id=\"Plots-5.3\"><span class=\"toc-item-num\">5.3&nbsp;&nbsp;</span>Plots</a></span></li></ul></li><li><span><a href=\"#Training-time-of-optimized-CP\" data-toc-modified-id=\"Training-time-of-optimized-CP-6\"><span class=\"toc-item-num\">6&nbsp;&nbsp;</span>Training time of optimized CP</a></span><ul class=\"toc-item\"><li><span><a href=\"#Experiment\" data-toc-modified-id=\"Experiment-6.1\"><span class=\"toc-item-num\">6.1&nbsp;&nbsp;</span>Experiment</a></span></li><li><span><a href=\"#Plots\" data-toc-modified-id=\"Plots-6.2\"><span class=\"toc-item-num\">6.2&nbsp;&nbsp;</span>Plots</a></span></li></ul></li><li><span><a href=\"#Multiprocessing-comparison\" data-toc-modified-id=\"Multiprocessing-comparison-7\"><span class=\"toc-item-num\">7&nbsp;&nbsp;</span>Multiprocessing comparison</a></span><ul class=\"toc-item\"><li><span><a href=\"#Experiments\" data-toc-modified-id=\"Experiments-7.1\"><span class=\"toc-item-num\">7.1&nbsp;&nbsp;</span>Experiments</a></span></li><li><span><a href=\"#Plots\" data-toc-modified-id=\"Plots-7.2\"><span class=\"toc-item-num\">7.2&nbsp;&nbsp;</span>Plots</a></span></li></ul></li><li><span><a href=\"#k-NN-CP-regression\" data-toc-modified-id=\"k-NN-CP-regression-8\"><span class=\"toc-item-num\">8&nbsp;&nbsp;</span>k-NN CP regression</a></span><ul class=\"toc-item\"><li><span><a href=\"#Base-implementations\" data-toc-modified-id=\"Base-implementations-8.1\"><span class=\"toc-item-num\">8.1&nbsp;&nbsp;</span>Base implementations</a></span><ul class=\"toc-item\"><li><span><a href=\"#Full-CP\" data-toc-modified-id=\"Full-CP-8.1.1\"><span class=\"toc-item-num\">8.1.1&nbsp;&nbsp;</span>Full CP</a></span></li><li><span><a href=\"#Full-CP-Optimized\" data-toc-modified-id=\"Full-CP-Optimized-8.1.2\"><span class=\"toc-item-num\">8.1.2&nbsp;&nbsp;</span>Full CP Optimized</a></span></li><li><span><a href=\"#Unit-tests-for-regression\" data-toc-modified-id=\"Unit-tests-for-regression-8.1.3\"><span class=\"toc-item-num\">8.1.3&nbsp;&nbsp;</span>Unit tests for regression</a></span></li><li><span><a href=\"#ICP\" data-toc-modified-id=\"ICP-8.1.4\"><span class=\"toc-item-num\">8.1.4&nbsp;&nbsp;</span>ICP</a></span></li></ul></li><li><span><a href=\"#Experiments\" data-toc-modified-id=\"Experiments-8.2\"><span class=\"toc-item-num\">8.2&nbsp;&nbsp;</span>Experiments</a></span><ul class=\"toc-item\"><li><span><a href=\"#CP-vs-optimized-CP-vs-ICP\" data-toc-modified-id=\"CP-vs-optimized-CP-vs-ICP-8.2.1\"><span class=\"toc-item-num\">8.2.1&nbsp;&nbsp;</span>CP vs optimized CP vs ICP</a></span><ul class=\"toc-item\"><li><span><a href=\"#Plots\" data-toc-modified-id=\"Plots-8.2.1.1\"><span class=\"toc-item-num\">8.2.1.1&nbsp;&nbsp;</span>Plots</a></span></li></ul></li><li><span><a href=\"#Numbers\" data-toc-modified-id=\"Numbers-8.2.2\"><span class=\"toc-item-num\">8.2.2&nbsp;&nbsp;</span>Numbers</a></span></li></ul></li></ul></li><li><span><a href=\"#Bootstrap-calculations\" data-toc-modified-id=\"Bootstrap-calculations-9\"><span class=\"toc-item-num\">9&nbsp;&nbsp;</span>Bootstrap calculations</a></span></li></ul></div>"
   ]
  },
  {
   "cell_type": "markdown",
   "metadata": {},
   "source": [
    "# Imports and multiprocessing settings"
   ]
  },
  {
   "cell_type": "code",
   "execution_count": 1,
   "metadata": {
    "ExecuteTime": {
     "end_time": "2021-01-27T10:10:32.139325Z",
     "start_time": "2021-01-27T10:10:32.133158Z"
    },
    "code_folding": [
     4
    ]
   },
   "outputs": [],
   "source": [
    "# Disable multithreading in numpy for fair measurements.\n",
    "# Needs to be run before importing numpy.\n",
    "import os\n",
    "import ctypes\n",
    "def disable_np_multithreading():\n",
    "    \"\"\"A multithreading-disabling routine for numpy, taken\n",
    "    from https://github.com/numpy/numpy/issues/11826.\n",
    "    \"\"\"\n",
    "    try:\n",
    "        import mkl\n",
    "        mkl.set_num_threads(1)\n",
    "        return 0\n",
    "    except:\n",
    "        pass \n",
    "    \n",
    "    for name in [ \"libmkl_rt.so\", \"libmkl_rt.dylib\", \"mkl_Rt.dll\"]: \n",
    "        try: \n",
    "            mkl_rt = ctypes.CDLL(name)\n",
    "            mkl_rt.mkl_set_num_threads(ctypes.byref(ctypes.c_int(1)))\n",
    "            return 0 \n",
    "        except:\n",
    "            pass   \n",
    "\n",
    "    os.environ[\"OMP_NUM_THREADS\"] = \"1\"\n",
    "    os.environ[\"OPENBLAS_NUM_THREADS\"] = \"1\" \n",
    "    os.environ[\"MKL_NUM_THREADS\"] = \"1\"\n",
    "    os.environ[\"VECLIB_MAXIMUM_THREADS\"] = \"1\"\n",
    "    os.environ[\"NUMEXPR_NUM_THREADS\"] = \"1\""
   ]
  },
  {
   "cell_type": "code",
   "execution_count": 2,
   "metadata": {
    "ExecuteTime": {
     "end_time": "2021-01-27T10:10:39.881230Z",
     "start_time": "2021-01-27T10:10:38.891929Z"
    }
   },
   "outputs": [],
   "source": [
    "disable_np_multithreading()\n",
    "\n",
    "import os\n",
    "import json\n",
    "import time\n",
    "import copy\n",
    "import bisect\n",
    "import scipy\n",
    "import doctest\n",
    "import unittest\n",
    "import functools\n",
    "import collections\n",
    "import numpy as np\n",
    "import pandas as pd\n",
    "import seaborn as sns\n",
    "import multiprocessing\n",
    "from numpy.linalg import inv\n",
    "from itertools import product\n",
    "import matplotlib.pylab as plt\n",
    "from sklearn.datasets import *\n",
    "from interval import interval, inf\n",
    "import matplotlib.ticker as ticker\n",
    "from sklearn.utils import resample\n",
    "from collections import defaultdict\n",
    "from IPython.display import display\n",
    "from parameterized import parameterized\n",
    "from sklearn.preprocessing import OneHotEncoder\n",
    "from sklearn.datasets import make_classification\n",
    "from sklearn.model_selection import train_test_split\n",
    "from sklearn.metrics.pairwise import euclidean_distances, rbf_kernel\n",
    "\n",
    "from eli import Eli"
   ]
  },
  {
   "cell_type": "code",
   "execution_count": 3,
   "metadata": {
    "ExecuteTime": {
     "end_time": "2021-01-27T10:10:41.999400Z",
     "start_time": "2021-01-27T10:10:41.995341Z"
    },
    "tags": [
     "plots"
    ]
   },
   "outputs": [],
   "source": [
    "# Plots settings\n",
    "DPI = 300\n",
    "plt.rc('xtick', labelsize='small')\n",
    "plt.rc('ytick', labelsize='small')\n",
    "plt.style.use(['seaborn-white', 'seaborn-talk'])\n",
    "\n",
    "COLORS = ['#000000', '#174905', '#28836d', '#829bc5', '#d5c4dd']"
   ]
  },
  {
   "cell_type": "markdown",
   "metadata": {},
   "source": [
    "# Definitions"
   ]
  },
  {
   "cell_type": "code",
   "execution_count": 4,
   "metadata": {
    "ExecuteTime": {
     "end_time": "2021-01-27T10:10:43.403840Z",
     "start_time": "2021-01-27T10:10:43.400953Z"
    }
   },
   "outputs": [],
   "source": [
    "def dist(a, b):\n",
    "    return euclidean_distances([a], [b])[0][0]"
   ]
  },
  {
   "cell_type": "markdown",
   "metadata": {},
   "source": [
    "## Nonconformity measures\n",
    "\n",
    "A nonconformity measure (ncm)\n",
    "$A((x, y); \\{(x_1, y_1), ..., (x_{n}, y_{n})\\}) \\mapsto \\mathcal{R}$\n",
    "scores the conformity of an example $(x, y)$ with respect to a set\n",
    "of training examples $\\{(x_1, y_1), ..., (x_{n}, y_{n})\\}$.\n",
    "The larger its value is, the less conforming (~similar) the example\n",
    "is to the training ones.\n",
    "\n",
    "In this notebook, ncms should implement 2 methods:\n",
    "- `train_ncm(X, Y)`\n",
    "- `compute_scores(x, y, only_score_x)`\n",
    "\n",
    "For simplicity, we define a common interface, `NCM`, which new\n",
    "ncms can inherit from.\n",
    "\n",
    "Simple (unoptimized) ncms can simply implement the method\n",
    "`train_ncm(x, y, X, Y)`, and the remaining methods\n",
    "(`train()` and `compute_scores()`) will be implemented automatically."
   ]
  },
  {
   "cell_type": "code",
   "execution_count": 5,
   "metadata": {
    "ExecuteTime": {
     "end_time": "2021-01-27T09:59:22.181082Z",
     "start_time": "2021-01-27T09:59:22.173178Z"
    },
    "code_folding": []
   },
   "outputs": [],
   "source": [
    "# Define an interface for nonconformity measures\n",
    "class NCM:\n",
    "    \"\"\"A template for all nonconformity scorers.\n",
    "    \"\"\"\n",
    "    def train(self, X, Y, inductive=False):\n",
    "        \"\"\"By default, this simply stores the training\n",
    "        data as an element of the NCM object.\n",
    "        \"\"\"\n",
    "        self.inductive = inductive\n",
    "        if inductive:\n",
    "            self.ncm = self.train_ncm(X, Y)\n",
    "        else:\n",
    "            self.X = np.array(X)\n",
    "            self.Y = np.array(Y)\n",
    "\n",
    "    def train_ncm(self, X, Y):\n",
    "        \"\"\"Should return the nonconformity scorer for\n",
    "        the training data (X, Y), which is a function\n",
    "        (x, y) -> score.\n",
    "        \"\"\"\n",
    "        def example_scorer(x, y):\n",
    "            raise NotImplemented\n",
    "        \n",
    "        return example_scorer\n",
    "\n",
    "    def compute_scores(self, x, y, only_score_x=False):\n",
    "        \"\"\"Returns a tuple:\n",
    "            (score_xy, scores)\n",
    "        where score_xy is the score for (x, y) and\n",
    "        scores are the nonconformity scores for the\n",
    "        training examples.\n",
    "        \n",
    "        If `only_score_x = True`, this method returns\n",
    "        only the prediction for (x, y), `score_xy`.\n",
    "        \"\"\"\n",
    "        if self.inductive:\n",
    "            ncm = self.ncm\n",
    "        else:\n",
    "            ncm = self.train_ncm(self.X, self.Y)\n",
    "        \n",
    "        score_x = ncm(x, y)\n",
    "        \n",
    "        if only_score_x:\n",
    "            return score_x\n",
    "        \n",
    "        scores = []\n",
    "        \n",
    "        for i in range(len(self.X)):\n",
    "            # Score the i-th example, removing it from the\n",
    "            # training data and appending (x, y) instead\n",
    "            idx = np.array(list(range(len(self.X))))\n",
    "            if self.inductive:\n",
    "                ncm = self.ncm\n",
    "            else:\n",
    "                ncm = self.train_ncm(np.row_stack((self.X[idx!=i,:], x)),\n",
    "                                     np.append(self.Y[idx!=i], y))\n",
    "            scores.append(ncm(self.X[i,:], self.Y[i]))\n",
    "            \n",
    "        return score_x, np.array(scores)\n",
    "\n",
    "    def name(self):\n",
    "        return self.__class__.__name__"
   ]
  },
  {
   "cell_type": "markdown",
   "metadata": {},
   "source": [
    "### Simplified k-NN nonconformity measure\n",
    "\n",
    "Particularly useful for anomaly detection contexts (where there is\n",
    "just one label in training).\n",
    "\n",
    "\n",
    "Fix a distance $d$. Let $\\delta^j(x, X)$ be the $j$-th smallest\n",
    "distance of $x$ from the elements of the set $X$.\n",
    "\n",
    "$$A((x, y); \\{(x_1, y_1), ..., (x_{n}, y_{n})\\}) =\n",
    "    \\sum_{j=1}^k \\delta^j(x, \\{x_i \\mid i=1...n, y_i=y\\})$$"
   ]
  },
  {
   "cell_type": "code",
   "execution_count": 6,
   "metadata": {
    "ExecuteTime": {
     "end_time": "2021-01-27T09:59:22.185872Z",
     "start_time": "2021-01-27T09:59:22.183066Z"
    }
   },
   "outputs": [],
   "source": [
    "def best_k(a, k):\n",
    "    if len(a) <= k:\n",
    "        return a\n",
    "\n",
    "    return a[np.argpartition(a, k)[:k]]"
   ]
  },
  {
   "cell_type": "code",
   "execution_count": 7,
   "metadata": {
    "ExecuteTime": {
     "end_time": "2021-01-27T09:59:22.192139Z",
     "start_time": "2021-01-27T09:59:22.188010Z"
    }
   },
   "outputs": [],
   "source": [
    "class SimplifiedKNN(NCM):\n",
    "    def __init__(self, k=15):\n",
    "        self.k = k\n",
    "\n",
    "    def train_ncm(self, X, Y):\n",
    "        X = np.array(X)\n",
    "        Y = np.array(Y)\n",
    "        \n",
    "        def scorer(x, y):\n",
    "            dist = euclidean_distances([x], X[Y==y,:]).flatten()\n",
    "            kdist = best_k(dist, self.k)\n",
    "        \n",
    "            return sum(kdist)\n",
    "        \n",
    "        return scorer"
   ]
  },
  {
   "cell_type": "code",
   "execution_count": 8,
   "metadata": {
    "ExecuteTime": {
     "end_time": "2021-01-27T09:59:22.203577Z",
     "start_time": "2021-01-27T09:59:22.194442Z"
    }
   },
   "outputs": [],
   "source": [
    "class SimplifiedKNN_fast(NCM):\n",
    "    def __init__(self, k=15):\n",
    "        self.k = k\n",
    "    \n",
    "    def train(self, X, Y):\n",
    "        self.distances = {}\n",
    "        self.temporary_scores = {}\n",
    "        for y in set(Y):\n",
    "            Xy = X[Y==y,:]\n",
    "            if not len(Xy):\n",
    "                raise Exception(\"[!] label `{}` not in training data\".format(y))\n",
    "            dist = euclidean_distances(Xy)\n",
    "            # Only keep best k, excluding self (first column, because\n",
    "            # distance will be 0).\n",
    "            dist.sort(axis=1)\n",
    "            dist = dist[:, 1:self.k+1]\n",
    "            # Store.\n",
    "            # NOTE: as a matter of fact, we could just keep 1 distance!\n",
    "            self.distances[y] = dist\n",
    "            self.temporary_scores[y] = np.sum(dist, axis=1)\n",
    "\n",
    "        self.X = X\n",
    "        self.Y = Y\n",
    "    \n",
    "    def compute_scores(self, x, y, only_score_x=False):\n",
    "        if not self.distances:\n",
    "            raise Exception(\"need to train the nonconformity measure first\")\n",
    "        \n",
    "        # Score the new example first.\n",
    "        distances_x = euclidean_distances([x], self.X[self.Y==y,:]).flatten()\n",
    "        score_x = sum(best_k(distances_x, self.k))\n",
    "        \n",
    "        if only_score_x:\n",
    "            return score_x\n",
    "\n",
    "        # Compute the remaining scores.\n",
    "        scores = []\n",
    "        \n",
    "        for yi in self.temporary_scores:\n",
    "            if yi != y:\n",
    "                # Scores not affected by (x, y).\n",
    "                scores += list(self.temporary_scores[yi])\n",
    "            else:\n",
    "                #assert len(distances_x) == len(self.distances[yi])\n",
    "                for dist_x, kdist, tmp_score in zip(distances_x,\n",
    "                                                    self.distances[yi],\n",
    "                                                    self.temporary_scores[yi]):\n",
    "                    # If the distance to x is among the k best, add it to the\n",
    "                    # score and remove the larger one.\n",
    "                    if kdist[-1] > dist_x:\n",
    "                        score = tmp_score - kdist[-1] + dist_x\n",
    "                    else:\n",
    "                        score = tmp_score\n",
    "                    scores.append(score)\n",
    "        \n",
    "        return score_x, np.array(scores)"
   ]
  },
  {
   "cell_type": "markdown",
   "metadata": {},
   "source": [
    "### k-NN nonconformity measure\n",
    "\n",
    "Fix a distance $d$. Let $\\delta^j(x, X)$ be the $j$-th smallest\n",
    "distance of $x$ from the elements of the set $X$.\n",
    "\n",
    "$$A((x, y); \\{(x_1, y_1), ..., (x_{n}, y_{n})\\}) =\n",
    "    \\frac{\\sum_{j=1}^k \\delta^j(x, \\{x_i \\mid i=1...n, y_i=y\\})}\n",
    "         {\\sum_{j=1}^k \\delta^j(x, \\{x_i \\mid i=1...n, y_i\\neq y\\})}$$"
   ]
  },
  {
   "cell_type": "code",
   "execution_count": 9,
   "metadata": {
    "ExecuteTime": {
     "end_time": "2021-01-27T09:59:22.211982Z",
     "start_time": "2021-01-27T09:59:22.207423Z"
    }
   },
   "outputs": [],
   "source": [
    "class KNN(NCM):\n",
    "    def __init__(self, k=15):\n",
    "        self.k = k\n",
    "\n",
    "    def train_ncm(self, X, Y):\n",
    "        X = np.array(X)\n",
    "        Y = np.array(Y)\n",
    "        \n",
    "        def scorer(x, y):\n",
    "            dist = euclidean_distances([x], X).flatten()\n",
    "        \n",
    "            # k best for y and for not y\n",
    "            kdist_y = best_k(dist[Y==y], self.k)\n",
    "            kdist_not_y = best_k(dist[Y!=y], self.k)\n",
    "\n",
    "            return sum(kdist_y) / max(sum(kdist_not_y), 0.1)\n",
    "        \n",
    "        return scorer"
   ]
  },
  {
   "cell_type": "code",
   "execution_count": 10,
   "metadata": {
    "ExecuteTime": {
     "end_time": "2021-01-27T09:59:22.225129Z",
     "start_time": "2021-01-27T09:59:22.214750Z"
    }
   },
   "outputs": [],
   "source": [
    "class KNN_fast(NCM):\n",
    "    def __init__(self, k=15):\n",
    "        self.k = k\n",
    "    \n",
    "    def train(self, X, Y):\n",
    "        # k best distances from y and from not y for each training point.\n",
    "        self.distances_y = []\n",
    "        self.distances_not_y = []\n",
    "        self.temporary_scores = []\n",
    "\n",
    "        for x, y, all_dist in zip(X, Y, euclidean_distances(X)):\n",
    "            # Keep smallest k distances (excluding \"self\").\n",
    "            kdist_y = sorted(all_dist[Y==y])[1:self.k+1]\n",
    "            kdist_not_y = sorted(all_dist[Y!=y])[:self.k]\n",
    "            score = sum(kdist_y) / sum(kdist_not_y)\n",
    "            \n",
    "            self.distances_y.append(kdist_y)\n",
    "            self.distances_not_y.append(kdist_not_y)\n",
    "            self.temporary_scores.append(score)\n",
    "\n",
    "        self.X = X\n",
    "        self.Y = Y\n",
    "    \n",
    "    def compute_scores(self, x, y, only_score_x=False):\n",
    "        # Score the new example first.\n",
    "        distances_x = euclidean_distances([x], self.X).flatten()\n",
    "        \n",
    "        # Best k for y and not y.\n",
    "        kdist_y = best_k(distances_x[self.Y==y], self.k)\n",
    "        kdist_not_y = best_k(distances_x[self.Y!=y], self.k)\n",
    "        \n",
    "        score_x = sum(kdist_y) / max(sum(kdist_not_y), 0.1) \n",
    "        \n",
    "        if only_score_x:\n",
    "            return score_x\n",
    "\n",
    "        # Compute the remaining scores.\n",
    "        scores = []\n",
    "        \n",
    "        for dist_x, kdist_y, kdist_not_y, score, yi in zip(distances_x,\n",
    "                                                           self.distances_y,\n",
    "                                                           self.distances_not_y,\n",
    "                                                           self.temporary_scores,\n",
    "                                                           self.Y):\n",
    "            if yi == y:\n",
    "                # dist_x affects the score's nominator if its label\n",
    "                # is yi, the denominator otherwise.\n",
    "                if len(kdist_y) < self.k or kdist_y[-1] > dist_x:\n",
    "                    # Remove effect of dist_y[-1] and use new distance.\n",
    "                    # NOTE: write \"kdist_y[:self.k-1]\" and not \"kdist_y[:-1]\"\n",
    "                    # or the code will have issues when dealing with small\n",
    "                    # training sets (and train objects don't have k neighbors).\n",
    "                    score = (score / sum(kdist_y)) * (sum(kdist_y[:self.k-1]) + dist_x)\n",
    "            else:\n",
    "                if len(kdist_not_y) < self.k or kdist_not_y[-1] > dist_x:\n",
    "                    score = (score * sum(kdist_not_y)) / (sum(kdist_not_y[:self.k-1]) + dist_x)\n",
    "            \n",
    "            scores.append(score)\n",
    "    \n",
    "        return score_x, np.array(scores)"
   ]
  },
  {
   "cell_type": "markdown",
   "metadata": {},
   "source": [
    "### 1-NN nonconformity measure\n",
    "\n",
    "For some distance $d$:\n",
    "\n",
    "$$A((x, y); \\{(x_1, y_1), ..., (x_{n}, y_{n})\\}) =\n",
    "    \\frac{min_{i=1, ..., n: y_i=y} d(x, x_i)}\n",
    "         {min_{i=1, ..., n: y_i\\neq y} d(x, x_i)}$$"
   ]
  },
  {
   "cell_type": "markdown",
   "metadata": {},
   "source": [
    "**Note**\n",
    "\n",
    "We instantiate the NN nonconformity measure, and conduct experiments with it.\n",
    "However, since its results are almost identical to those of k-NN (and its\n",
    "asymptotic complexity is the same), we did not include them in the paper."
   ]
  },
  {
   "cell_type": "code",
   "execution_count": null,
   "metadata": {
    "ExecuteTime": {
     "end_time": "2021-02-05T15:56:03.632084Z",
     "start_time": "2021-02-05T15:56:03.261138Z"
    }
   },
   "outputs": [],
   "source": [
    "class NN(KNN):\n",
    "    def __init__(self):\n",
    "        super().__init__(k=1)"
   ]
  },
  {
   "cell_type": "code",
   "execution_count": 12,
   "metadata": {
    "ExecuteTime": {
     "end_time": "2021-01-27T09:59:22.233795Z",
     "start_time": "2021-01-27T09:59:22.231419Z"
    },
    "code_folding": [
     1
    ]
   },
   "outputs": [],
   "source": [
    "class NN_fast(KNN_fast):\n",
    "    def __init__(self):\n",
    "        super().__init__(k=1)"
   ]
  },
  {
   "cell_type": "markdown",
   "metadata": {},
   "source": [
    "### KDE\n",
    "\n",
    "$$A((x, y); \\{(x_1, y_1), ..., (x_{n}, y_{n})\\}) =\n",
    "  - \\left(\\frac{1}{n_yh^d} \\sum_{x_i: y_i = y} K \\left(\\frac{x - x_i}{h}\\right)\\right)$$\n",
    "\n",
    "where $n_y = |\\{ i=1, ..., n : y_i = y \\}|$, $K$ is a kernel, $h$ is the bandwidth."
   ]
  },
  {
   "cell_type": "code",
   "execution_count": 13,
   "metadata": {
    "ExecuteTime": {
     "end_time": "2021-01-27T09:59:22.634764Z",
     "start_time": "2021-01-27T09:59:22.235789Z"
    }
   },
   "outputs": [],
   "source": [
    "from sklearn.neighbors import KernelDensity\n",
    "\n",
    "class KDE(NCM):\n",
    "    def __init__(self, h=1.):\n",
    "        self.h = h\n",
    "\n",
    "    def train_ncm(self, X, Y):\n",
    "        X = np.array(X)\n",
    "        Y = np.array(Y)\n",
    "        kde = KernelDensity(bandwidth=self.h)\n",
    "        \n",
    "        def scorer(x, y):\n",
    "            kde.fit(X[Y==y,:])\n",
    "\n",
    "            return -np.exp(kde.score([x]))\n",
    "        \n",
    "        return scorer"
   ]
  },
  {
   "cell_type": "code",
   "execution_count": 14,
   "metadata": {
    "ExecuteTime": {
     "end_time": "2021-01-27T09:59:22.646674Z",
     "start_time": "2021-01-27T09:59:22.637087Z"
    }
   },
   "outputs": [],
   "source": [
    "class KDE_fast(NCM):\n",
    "    def __init__(self, h=1.):\n",
    "        self.h = h\n",
    "    \n",
    "    def train(self, X, Y):\n",
    "        scores = {}\n",
    "        mult_factor = {}\n",
    "\n",
    "        for y in set(Y):\n",
    "            Xy = X[Y==y, :]\n",
    "            ny, d = Xy.shape\n",
    "            dist_squared = euclidean_distances(Xy, squared=True)\n",
    "            K = np.exp(-.5*dist_squared)\n",
    "            # Remove contribution of distance to self.\n",
    "            K -= np.eye(ny)\n",
    "            # Precompute temporary scores and multiplicative factors.\n",
    "            scores[y] = np.sum(K, axis=0)\n",
    "            \n",
    "            mult_factor[y] = -(2*np.pi)**(-.5*d)/((ny-1)*self.h**d)\n",
    "        \n",
    "        self.X = X\n",
    "        self.Y = Y\n",
    "        self.temporary_scores = scores\n",
    "        self.mult_factor = mult_factor\n",
    "        \n",
    "    def compute_scores(self, x, y, only_score_x=False):\n",
    "        # Preprocess kernel and compute score for (x, y).\n",
    "        Xy = self.X[self.Y==y,:]\n",
    "        dist_squared_y = euclidean_distances([x],\n",
    "                                             Xy,\n",
    "                                             squared=True).flatten()\n",
    "        K = np.exp(-.5*dist_squared_y)\n",
    "        \n",
    "        # Update multiplicative factor.\n",
    "        ny, d = Xy.shape\n",
    "        mult_factor_y = self.mult_factor[y] * ((ny-1)*self.h**d)/(ny*self.h**d)\n",
    "        \n",
    "        # Compute the score for x.\n",
    "        score_x = sum(K)*mult_factor_y\n",
    "        \n",
    "        if only_score_x:\n",
    "            return score_x\n",
    "\n",
    "        scores = []\n",
    "        for yi, scores_yi in self.temporary_scores.items():\n",
    "            if yi == y:\n",
    "                # Update scores with example (x, y).\n",
    "                scores_yi = scores_yi + K\n",
    "                mult_factor = mult_factor_y\n",
    "            else:\n",
    "                mult_factor = self.mult_factor[yi]\n",
    "\n",
    "            scores += list(scores_yi*mult_factor)\n",
    "        \n",
    "        return score_x, np.array(scores)"
   ]
  },
  {
   "cell_type": "markdown",
   "metadata": {},
   "source": [
    "### Least-squares SVM\n",
    "\n",
    "$$w^* = \\Phi[\\Phi^T \\Phi + \\rho I_N]^{-1}y = [\\rho I_J + \\Phi\\Phi^T]^{-1}\\Phi y$$\n",
    "\n",
    "\n",
    "We consider LS-SVM (ridge regression) as a classifier.\n",
    "Predictions $y >= 0$ indicate label y=+1, predictions $y < 0$\n",
    "mean label $y=-1$.\n",
    "\n",
    "We define the nonconformity measure as follows:\n",
    "\n",
    "$$A((x, y); \\{(x_1, y_1), ..., (x_{n}, y_{n})\\}) = -y f(x)$$\n",
    "\n",
    "where $f(x)$ is the prediction of LS-SVM for $x$."
   ]
  },
  {
   "cell_type": "code",
   "execution_count": 15,
   "metadata": {
    "ExecuteTime": {
     "end_time": "2021-01-27T09:59:22.651311Z",
     "start_time": "2021-01-27T09:59:22.648860Z"
    }
   },
   "outputs": [],
   "source": [
    "def linear_kernel(A):\n",
    "    return np.array(A).T"
   ]
  },
  {
   "cell_type": "code",
   "execution_count": 16,
   "metadata": {
    "ExecuteTime": {
     "end_time": "2021-01-27T09:59:22.661215Z",
     "start_time": "2021-01-27T09:59:22.654751Z"
    }
   },
   "outputs": [],
   "source": [
    "class LSSVM(NCM):\n",
    "    def __init__(self, feature_map=None, rho=1.):\n",
    "        if not feature_map:\n",
    "            # Linear kernel if map is not specified\n",
    "            self.phi = linear_kernel\n",
    "        else:\n",
    "            self.phi = lambda A: np.atleast_2d(list(map(feature_map, A))).T\n",
    "        self.rho = rho\n",
    "\n",
    "    def train_ncm(self, X, Y):\n",
    "        n = len(X)\n",
    "        X = np.array(X)\n",
    "        Y = np.atleast_2d(Y).T\n",
    "        # Labels to {-1, 1}\n",
    "        Y[Y==0] = -1\n",
    "        assert len(np.unique(Y)) == 2\n",
    "        \n",
    "        Phi = self.phi(X)\n",
    "        I = np.eye(n)\n",
    "        w = Phi @ inv(Phi.T @ Phi + self.rho*I) @ Y\n",
    "        \n",
    "        def scorer(x, y):\n",
    "            if y == 0:\n",
    "                y = -1\n",
    "            pred = (w.T @ self.phi([x])).item()\n",
    "\n",
    "            return -pred*y\n",
    "        \n",
    "        return scorer"
   ]
  },
  {
   "cell_type": "code",
   "execution_count": 17,
   "metadata": {
    "ExecuteTime": {
     "end_time": "2021-01-27T09:59:22.678946Z",
     "start_time": "2021-01-27T09:59:22.663616Z"
    },
    "code_folding": []
   },
   "outputs": [],
   "source": [
    "class LSSVM_fast(NCM):\n",
    "    def __init__(self, feature_map=None, rho=1.):\n",
    "        if not feature_map:\n",
    "            # Linear kernel if map is not specified\n",
    "            self.phi = linear_kernel\n",
    "        else:\n",
    "            self.phi = lambda A: np.atleast_2d(list(map(feature_map, A))).T\n",
    "        self.rho = rho\n",
    "    \n",
    "    def _add_example(self, x, y, w, C):\n",
    "        \"\"\"Increments the trained LSSVM weights `w` with\n",
    "        a new example.\n",
    "        \"\"\"\n",
    "        I = np.eye(len(C))\n",
    "        phi_x = self.phi([x])\n",
    "        update = (C-I) @ phi_x  @ (phi_x.T @ w - y)\n",
    "        update /= (phi_x.T @ phi_x + self.rho - phi_x.T @ C @ phi_x).item()\n",
    "        # NOTE: do not change to \"w += update\", otherwise\n",
    "        # you'll be modifying the \"w\" provided as input :)\n",
    "        w = w + update\n",
    "\n",
    "        update = (C-I) @ phi_x @ phi_x.T @ (C-I)\n",
    "        update /= (phi_x.T @ phi_x + self.rho - phi_x.T @ C @ phi_x).item()\n",
    "        C = C + update\n",
    "        \n",
    "        return w, C\n",
    "    \n",
    "    def _remove_example(self, x, y, w, C, compute_c=True):\n",
    "        \"\"\"Decrements the trained LSSVM weights `w` after removing\n",
    "        one examples.\n",
    "        \"\"\"\n",
    "        I = np.eye(len(C))\n",
    "        phi_x = self.phi([x])\n",
    "        update = (C-I) @ phi_x  @ (phi_x.T @ w - y)\n",
    "        update /= (-phi_x.T @ phi_x + self.rho + phi_x.T @ C @ phi_x).item()\n",
    "        w = w - update\n",
    "        \n",
    "        if compute_c:\n",
    "            update = (C-I) @ phi_x @ phi_x.T @ (C-I)\n",
    "            update /= (-phi_x.T @ phi_x + self.rho + phi_x.T @ C @ phi_x).item()\n",
    "            C = C - update\n",
    "        else:\n",
    "            C = None\n",
    "        \n",
    "        return w, C\n",
    "    \n",
    "    def _predict(self, x, w):\n",
    "        return (w.T @ self.phi(x)).item()\n",
    "\n",
    "    def train(self, X, Y):\n",
    "        n = len(X)\n",
    "        X = np.array(X)\n",
    "        Y = np.atleast_2d(Y).T\n",
    "        # Labels to {-1, 1}\n",
    "        Y[Y==0] = -1\n",
    "        assert set(np.unique(Y)) == set([-1, 1]), \"Only binary labels in {-1, 1}!\"\n",
    "        \n",
    "        # Prepare for incremental/decremental learning\n",
    "        Phi = self.phi(X)\n",
    "        I = np.eye(n)\n",
    "        # NOTE: we could have made this even faster by computing\n",
    "        # inv(Phi.T @ Phi + self.rho*I) only once, and by\n",
    "        # rearranging the terms.\n",
    "        self.w = Phi @ inv(Phi.T @ Phi + self.rho*I) @ Y\n",
    "        self.C = Phi @ inv(Phi.T @ Phi + self.rho*I) @ Phi.T\n",
    "\n",
    "        # Need to keep them for CP\n",
    "        self.X = X\n",
    "        self.Y = Y\n",
    "\n",
    "    def compute_scores(self, x, y, only_score_x=False):\n",
    "        # Labels to {-1, 1}\n",
    "        if y == 0:\n",
    "            y = -1\n",
    "        \n",
    "        w = self.w\n",
    "        C = self.C\n",
    "\n",
    "        # Score x for first\n",
    "        score_x = -y * self._predict(x, w)\n",
    "        \n",
    "        if only_score_x:\n",
    "            return score_x\n",
    "        \n",
    "        # Add x to training\n",
    "        w, C = self._add_example(x, y, w, C)\n",
    "        \n",
    "        # Score all the rest\n",
    "        scores = []\n",
    "        for xi, yi in zip(self.X, self.Y):\n",
    "            yi = yi.item()\n",
    "            w_tmp, _ = self._remove_example(xi, yi, w, C, compute_c=False)\n",
    "            score = -yi * self._predict(xi, w_tmp)\n",
    "            scores.append(score)\n",
    "        \n",
    "        return score_x, np.array(scores)"
   ]
  },
  {
   "cell_type": "markdown",
   "metadata": {},
   "source": [
    "## Random forest\n",
    "\n",
    "Training: we generate many bootstrap samples $(X_b, Y_b)$ until there are B\n",
    "for every training point $(x_i, y_i)$ and for a (placeholder) test point\n",
    "$(x, y)$. A bootstrap sample is used for a point if that point does not\n",
    "belong to the sample.\n",
    "We also pre-train a model for each $(X_b, Y_b)$ if $(x, y) \\notin (X_b, Y_b)$,\n",
    "and pre-compute the score for all points $(x_i, y_i) \\notin (X_b, Y_b)$.\n",
    "\n",
    "Scoring: for each training example $(x_i, y_i)$ we train every model that hasn't\n",
    "been trained already, and we use it to predict $(x_i, y_i)$, and average\n",
    "the predictions."
   ]
  },
  {
   "cell_type": "code",
   "execution_count": 18,
   "metadata": {
    "ExecuteTime": {
     "end_time": "2021-01-27T09:59:22.882249Z",
     "start_time": "2021-01-27T09:59:22.785396Z"
    }
   },
   "outputs": [],
   "source": [
    "from sklearn.tree import DecisionTreeClassifier as DT\n",
    "\n",
    "class BaggingClassifier:\n",
    "    def __init__(self, model, n_estimators=200, random_state=None,\n",
    "                 **model_args):\n",
    "        self.n_classes = None\n",
    "        self.estimators_ = [None]*n_estimators\n",
    "        self.model = model\n",
    "        self.model_args = model_args\n",
    "        self.random_state = random_state\n",
    "        self.model_args[\"random_state\"] = random_state\n",
    "        # The following dictionary associates the index i of a training\n",
    "        # data point to the tree(s) where that point was used.\n",
    "        self.used_data = defaultdict(set)\n",
    "\n",
    "    def refit_estimator(self, X, Y, estimator_idx):\n",
    "        Xboot, Yboot, used_idx = resample(X, Y,\n",
    "                                          list(range(len(X))),\n",
    "                                          replace=True)\n",
    "\n",
    "        model = self.model(**self.model_args)\n",
    "        model.fit(Xboot, Yboot)\n",
    "        self.estimators_[estimator_idx] = model\n",
    "\n",
    "        # Keep track of index of used points for this estimator.\n",
    "        for i in used_idx:\n",
    "            self.used_data[i] |= set([estimator_idx])\n",
    "\n",
    "    def fit(self, X, Y):\n",
    "        if not self.n_classes:\n",
    "            self.n_classes = len(np.unique(Y))\n",
    "\n",
    "        np.random.seed(self.random_state)\n",
    "\n",
    "        for model_idx in range(len(self.estimators_)):\n",
    "            self.refit_estimator(X, Y, model_idx)    \n",
    "\n",
    "    def predict_proba(self, X):\n",
    "        preds = []\n",
    "        for x in X:\n",
    "            preds_x = np.zeros(self.n_classes)\n",
    "            for tree in self.estimators_:\n",
    "                y = tree.predict([x])\n",
    "                preds_x[y] += 1\n",
    "            preds.append(preds_x / len(self.estimators_))\n",
    "\n",
    "        return np.array(preds)"
   ]
  },
  {
   "cell_type": "code",
   "execution_count": 19,
   "metadata": {
    "ExecuteTime": {
     "end_time": "2021-01-27T09:59:22.983325Z",
     "start_time": "2021-01-27T09:59:22.977006Z"
    }
   },
   "outputs": [],
   "source": [
    "class RandomForest(NCM):\n",
    "    def __init__(self, n_estimators=10, max_depth=10, max_features=\"auto\",\n",
    "                 random_state=None):\n",
    "        self.rf_args = dict(n_estimators=n_estimators,\n",
    "                            max_depth=max_depth,\n",
    "                            max_features=max_features,\n",
    "                            random_state=random_state)\n",
    "\n",
    "    def train_ncm(self, X, Y):\n",
    "        n = len(X)\n",
    "        X = np.array(X)\n",
    "        \n",
    "        rf = BaggingClassifier(DT, **self.rf_args)\n",
    "        rf.fit(X, Y)\n",
    "        \n",
    "        def scorer(x, y):\n",
    "            return -rf.predict_proba([x])[0][y]\n",
    "        \n",
    "        return scorer"
   ]
  },
  {
   "cell_type": "code",
   "execution_count": 20,
   "metadata": {
    "ExecuteTime": {
     "end_time": "2021-01-27T09:59:23.193759Z",
     "start_time": "2021-01-27T09:59:23.176460Z"
    },
    "code_folding": [
     11
    ]
   },
   "outputs": [],
   "source": [
    "from sklearn.tree import DecisionTreeClassifier as DT\n",
    "\n",
    "\n",
    "class RandomForest_fast(NCM):\n",
    "    def __init__(self, n_estimators=10, max_depth=10, max_features=\"auto\",\n",
    "                 random_state=None):\n",
    "        self.n_estimators = n_estimators\n",
    "        self.max_depth = max_depth\n",
    "        self.random_state = random_state\n",
    "        self.max_features = max_features\n",
    "    \n",
    "    def _fit_model(self, X, Y, idx):\n",
    "        \"\"\"Fits base classifier on subset idx of\n",
    "        data (X, Y).\n",
    "        \"\"\"\n",
    "        idx = np.array(idx, dtype=int)\n",
    "\n",
    "        model = DT(max_depth=self.max_depth,\n",
    "                   max_features=self.max_features,\n",
    "                  )\n",
    "        model.fit(X[idx,:], Y[idx])\n",
    "        \n",
    "        return model\n",
    "\n",
    "    def train(self, X, Y):\n",
    "        if not self.random_state is None:\n",
    "            np.random.seed(self.random_state)\n",
    "\n",
    "        models = []\n",
    "        # Structure: idx_to_model[i] = [model_idx_0, model_idx_1, ...]\n",
    "        idx_to_model = defaultdict(list)\n",
    "\n",
    "        # We create bootstraps (and models) until each data point\n",
    "        # has at least B models.\n",
    "        # NOTE: we assume we already know the test point (x, y),\n",
    "        # to which we associate index 0. If this point appears in\n",
    "        # one of the bootstrap samples, we simply store the dataset\n",
    "        # (excluding (x, y) of course) instead of the model.\n",
    "        # If it doesn't appear, we pre-train the model.\n",
    "        B = self.n_estimators\n",
    "        # Add (x, y) placeholder at position 0.\n",
    "        nan_vec = np.full(X.shape[1], np.nan)\n",
    "        X = np.row_stack(([nan_vec], X))\n",
    "        Y = np.concatenate(([np.nan], Y))\n",
    "        # How many models each data point has.\n",
    "        bootstrap_count = {i: 0 for i in range(len(X))}\n",
    "        all_have_enough = lambda count: sum(np.array(list(count)) >= B) == len(count)\n",
    "\n",
    "        while not all_have_enough(bootstrap_count.values()):\n",
    "            used_idx = resample(list(range(len(X))), replace=True)\n",
    "            used_idx_unique = set(used_idx)\n",
    "            \n",
    "            if not 0 in used_idx_unique:\n",
    "                # Normal case: the test point is not in this\n",
    "                # bootstrap sample. We can already fit the model.\n",
    "                model = self._fit_model(X, Y, used_idx)\n",
    "            else:\n",
    "                # The test point should be in the bootstrap sample.\n",
    "                # Since we don't know it, we store the indeces\n",
    "                # that allow to generate this bootstrap sample.\n",
    "                model = used_idx\n",
    "\n",
    "            models.append(model)\n",
    "            \n",
    "            # We use this new model to compute the scores\n",
    "            # for the points that were not in this bootstrap\n",
    "            # sample.\n",
    "            for i in range(len(X)):\n",
    "                if i in used_idx_unique:\n",
    "                    continue\n",
    "                bootstrap_count[i] += 1\n",
    "                idx_to_model[i].append(len(models)-1)\n",
    "\n",
    "        self.idx_to_model = idx_to_model\n",
    "        self.models = models\n",
    "        self.X = X\n",
    "        self.Y = Y\n",
    "        self.n_labels = len(set(Y)) - 1 # Count to exclude placeholder \"np.nan\"\n",
    "\n",
    "    def _predict(self, model, x, y, X=None, Y=None):\n",
    "        # model can be a model or a list of indeces on\n",
    "        # which the model should be trained.\n",
    "        if isinstance(model, list):\n",
    "            if X is None or Y is None:\n",
    "                raise Exception(\"Specify (X, Y) for model retraining!\")\n",
    "            X = X[model,:]\n",
    "            Y = Y[model]\n",
    "            model = self._fit_model(X, Y, model)\n",
    "\n",
    "        return model.predict([x])[0] == y\n",
    "\n",
    "    def compute_scores(self, x, y, only_score_x=False):\n",
    "        # Replace placeholder with test point (x, y).\n",
    "        X, Y = self.X, self.Y\n",
    "        X[0,:] = x\n",
    "        Y[0] = y\n",
    "\n",
    "        # Prediction for (x, y)\n",
    "        pred_y = 0.\n",
    "        for model_idx in self.idx_to_model[0][:self.n_estimators]:\n",
    "            pred_y += self._predict(self.models[model_idx], x, y)\n",
    "\n",
    "        score_x = -pred_y/self.n_estimators\n",
    "        \n",
    "        if only_score_x:\n",
    "            return score_x\n",
    "        \n",
    "        # Score all the rest\n",
    "        scores = []\n",
    "        for point_idx, models_idx in self.idx_to_model.items():\n",
    "            if point_idx == 0:\n",
    "                continue\n",
    "            xi, yi = self.X[point_idx,:], self.Y[point_idx]\n",
    "            # Compute prediction for (xi, yi) given all\n",
    "            # the models trained on data excluding it.\n",
    "            models_idx = models_idx[:self.n_estimators]\n",
    "            pred_y = 0.\n",
    "            for idx in models_idx:\n",
    "                pred_y += self._predict(self.models[idx], xi, yi, X, Y)\n",
    "\n",
    "            scores.append(-pred_y/self.n_estimators)\n",
    "        \n",
    "        return score_x, np.array(scores)"
   ]
  },
  {
   "cell_type": "markdown",
   "metadata": {},
   "source": [
    "## Conformal Prediction"
   ]
  },
  {
   "cell_type": "code",
   "execution_count": 21,
   "metadata": {
    "ExecuteTime": {
     "end_time": "2021-01-27T09:59:23.517267Z",
     "start_time": "2021-01-27T09:59:23.512275Z"
    },
    "code_folding": [
     0
    ]
   },
   "outputs": [],
   "source": [
    "def compute_pvalues(x, labels, ncm, scores=None):\n",
    "    \"\"\"Generic function for computing p-values for `x`\n",
    "    for all candidate `labels` given a nonconformity\n",
    "    measure `ncm`.\n",
    "    If `scores=None` this is used for (transductive) CP;\n",
    "    otherwise for inductive CP.\n",
    "    \"\"\"\n",
    "    pvalues_x = []\n",
    "    for y in labels:\n",
    "        if scores is None:\n",
    "            # CP\n",
    "            score_x, scores = ncm.compute_scores(x, y)\n",
    "        else:\n",
    "            # ICP\n",
    "            score_x = ncm.compute_scores(x, y, only_score_x=True)\n",
    "        pvalue = (1 + sum(scores >= score_x)) / (1 + len(scores))\n",
    "        pvalues_x.append(pvalue)\n",
    "\n",
    "    return pvalues_x"
   ]
  },
  {
   "cell_type": "markdown",
   "metadata": {},
   "source": [
    "**NOTE** We define two (equivalent) functions for doing CP:\n",
    "a sequential version, which also returns running time information,\n",
    "and a parallel one, designed for when we're only interested\n",
    "in the predictions and not in the computational performance."
   ]
  },
  {
   "cell_type": "code",
   "execution_count": 22,
   "metadata": {
    "ExecuteTime": {
     "end_time": "2021-01-27T09:59:24.391301Z",
     "start_time": "2021-01-27T09:59:24.385586Z"
    },
    "code_folding": [
     0
    ]
   },
   "outputs": [],
   "source": [
    "def cp_predict(Xtrain, Ytrain, Xtest, labels, ncm,\n",
    "               return_time=False, timeout=None):\n",
    "    # Train nonconformity measure\n",
    "    start = time.perf_counter()\n",
    "    ncm.train(Xtrain, Ytrain)\n",
    "    train_time = time.perf_counter() - start\n",
    "\n",
    "    # Predict p-values\n",
    "    start = time.perf_counter()\n",
    "    prediction_times = []\n",
    "    reached_timeout = False\n",
    "\n",
    "    pvalues = []\n",
    "    for x in Xtest:\n",
    "        pvalues_x = compute_pvalues(x, labels, ncm)\n",
    "        pvalues.append(pvalues_x)\n",
    "        \n",
    "        # Store time\n",
    "        t = time.perf_counter() - start\n",
    "        prediction_times.append(t)\n",
    "        \n",
    "        # Check if reached timeout\n",
    "        if timeout and t > timeout:\n",
    "            reached_timeout = True\n",
    "            break\n",
    "    \n",
    "    if return_time:\n",
    "        return np.array(pvalues), {\"training_time\": train_time,\n",
    "                                   \"prediction_time\": prediction_times,\n",
    "                                   \"reached_timeout\": reached_timeout,\n",
    "                                   }\n",
    "    else:\n",
    "        return np.array(pvalues)"
   ]
  },
  {
   "cell_type": "code",
   "execution_count": 23,
   "metadata": {
    "ExecuteTime": {
     "end_time": "2021-01-27T09:59:24.601244Z",
     "start_time": "2021-01-27T09:59:24.596650Z"
    },
    "code_folding": [
     0
    ]
   },
   "outputs": [],
   "source": [
    "def cp_predict_parallel(Xtrain, Ytrain, Xtest, labels, ncm, jobs=None):\n",
    "    Xtrain = np.array(Xtrain)\n",
    "    Ytrain = np.array(Ytrain)\n",
    "    Xtest = np.array(Xtest)\n",
    "\n",
    "    # Train nonconformity measure\n",
    "    ncm.train(Xtrain, Ytrain)\n",
    "\n",
    "    # Predict p-values\n",
    "    with multiprocessing.Pool(jobs) as p:\n",
    "        pvalues = p.map(functools.partial(compute_pvalues,\n",
    "                                          labels=labels,\n",
    "                                          ncm=ncm), Xtest)\n",
    "\n",
    "    return np.array(pvalues)"
   ]
  },
  {
   "cell_type": "markdown",
   "metadata": {},
   "source": [
    "ICP implementation."
   ]
  },
  {
   "cell_type": "code",
   "execution_count": 24,
   "metadata": {
    "ExecuteTime": {
     "end_time": "2021-01-27T09:59:25.067328Z",
     "start_time": "2021-01-27T09:59:25.060788Z"
    },
    "code_folding": [
     0
    ]
   },
   "outputs": [],
   "source": [
    "def icp_predict(Xtrain, Ytrain, Xcalib, Ycalib, Xtest,\n",
    "                labels, ncm, return_time=False, timeout=None):\n",
    "    # Train nonconformity measure\n",
    "    start = time.perf_counter()\n",
    "    ncm.train(Xtrain, Ytrain, inductive=True)\n",
    "    train_time = time.perf_counter() - start\n",
    "    \n",
    "    # Calibrate\n",
    "    start = time.perf_counter()\n",
    "    scores = []\n",
    "    for x, y in zip(Xcalib, Ycalib):\n",
    "        scores.append(ncm.compute_scores(x, y, only_score_x=True))\n",
    "    scores = np.array(scores)\n",
    "    calibration_time = time.perf_counter() - start\n",
    "\n",
    "    # Predict p-values\n",
    "    start = time.perf_counter()\n",
    "    prediction_times = []\n",
    "    reached_timeout = False\n",
    "\n",
    "    pvalues = []\n",
    "    for x in Xtest:\n",
    "        pvalues_x = compute_pvalues(x, labels, ncm, scores)\n",
    "        pvalues.append(pvalues_x)\n",
    "        \n",
    "        # Store time\n",
    "        t = time.perf_counter() - start\n",
    "        prediction_times.append(t)\n",
    "        \n",
    "        # Check if reached timeout\n",
    "        if timeout and t > timeout:\n",
    "            reached_timeout = True\n",
    "            break\n",
    "    \n",
    "    pred_time = time.perf_counter() - start\n",
    "    \n",
    "    if return_time:\n",
    "        return np.array(pvalues), {\"training_time\": train_time,\n",
    "                                   \"calibration_time\": calibration_time,\n",
    "                                   \"prediction_time\": prediction_times,\n",
    "                                   \"reached_timeout\": reached_timeout,\n",
    "                                   }\n",
    "    else:\n",
    "        return np.array(pvalues)"
   ]
  },
  {
   "cell_type": "markdown",
   "metadata": {},
   "source": [
    "# Correctness\n",
    "\n",
    "Unit tests, to ensure the correctness of our implementations\n",
    "(as much as it is possible)."
   ]
  },
  {
   "cell_type": "markdown",
   "metadata": {},
   "source": [
    "## Unit test for CP"
   ]
  },
  {
   "cell_type": "code",
   "execution_count": 25,
   "metadata": {
    "ExecuteTime": {
     "end_time": "2021-01-27T09:59:25.637309Z",
     "start_time": "2021-01-27T09:59:25.623961Z"
    }
   },
   "outputs": [],
   "source": [
    "class CPTests(unittest.TestCase):\n",
    "    def setUp(self):\n",
    "        self.X = [[0, 0], [1, 0], [0, 1], [1, 1], [1, 2]]\n",
    "        self.Y = np.array([0, 0, 0, 1, 1])\n",
    "        self.x = [2, 2]\n",
    "\n",
    "    def test_cp(self):\n",
    "        \"\"\"Test 1-NN CP on hand-calculated values.\n",
    "        \"\"\"\n",
    "        # Calculate with alternative method (manual)\n",
    "        X = [[0, 0], [1, 0], [0, 1], [1, 1], [1, 2]]\n",
    "        Y = np.array([0, 0, 0, 1, 1])\n",
    "        x = [2, 2]\n",
    "        \n",
    "        X.append(self.x)\n",
    "        D = euclidean_distances(X)\n",
    "        # Scores given y = 0\n",
    "        score_x = D[1,5]/D[4,5]\n",
    "        scores = np.array([D[1,0]/D[3,0], D[0,1]/D[3,1], D[0,2]/D[3,2], D[4,3]/D[4,3], D[3,4]/D[5,4]])\n",
    "        pvalue0 = (sum(scores >= score_x)+1) / (len(scores)+1)\n",
    "        # Scores given y = 1\n",
    "        score_x = D[4,5]/D[1,5]\n",
    "        scores = np.array([D[1,0]/D[3,0], D[0,1]/D[3,1], D[0,2]/D[3,2], D[4,3]/D[4,3], D[3,4]/D[2,4]])\n",
    "        pvalue1 = (sum(scores >= score_x)+1) / (len(scores)+1)\n",
    "        \n",
    "        expected_pvalues = [pvalue0, pvalue1]\n",
    "        \n",
    "        output = cp_predict(self.X, self.Y, [self.x, self.x], [0, 1], ncm=NN())\n",
    "        output = list(output[0,:])\n",
    "\n",
    "        self.assertListEqual(output, expected_pvalues)\n",
    "\n",
    "    def test_icp_cp(self):\n",
    "        \"\"\"ICP with Xtrain=Xcalib and Ytrain=Ycalib must be equivalent to CP.\n",
    "        \n",
    "        Evaluation numbers come from test_cp_scores().\n",
    "        \"\"\"\n",
    "        # Calculate with alternative method (manual)\n",
    "        Xtrain = [[0, 0], [1, 0], [0, 1], [1, 1], [1, 2]]\n",
    "        Ytrain = np.array([0, 0, 0, 1, 1])\n",
    "        Xcalib = [[4, 3], [1, -1], [2, 1], [4, 5]]\n",
    "        Ycalib = [0, 0, 1, 1]\n",
    "        x = [2, 2]\n",
    "        \n",
    "        # Calibration scores\n",
    "        D = euclidean_distances(Xcalib, Xtrain)\n",
    "        scores = np.array([D[0,1]/D[0,4], D[1,1]/D[1,3], D[2,3]/D[2,1], D[3,4]/D[3,2]])\n",
    "\n",
    "        # Scores given y = 0\n",
    "        D = euclidean_distances([x], Xtrain).flatten()\n",
    "        score_x = D[1]/D[4]\n",
    "        pvalue0 = (sum(scores >= score_x)+1) / (len(scores)+1)\n",
    "\n",
    "        # Scores given y = 1\n",
    "        D = euclidean_distances([x], Xtrain).flatten()\n",
    "        score_x = D[4]/D[1]\n",
    "        pvalue1 = (sum(scores >= score_x)+1) / (len(scores)+1)\n",
    "        \n",
    "        expected_pvalues = [pvalue0, pvalue1]\n",
    "        \n",
    "        output = icp_predict(Xtrain, Ytrain, Xcalib, Ycalib, [x, x], [0, 1], ncm=NN())\n",
    "        output = list(output[0,:])\n",
    "\n",
    "        self.assertListEqual(output, expected_pvalues)\n",
    "\n",
    "    def test_cp_parallel_equivalent(self):\n",
    "        \"\"\"CP and parallel CP should give the same results.\n",
    "        \"\"\"\n",
    "        X, Y = load_iris(return_X_y=True)\n",
    "\n",
    "        r1 = cp_predict(X, Y, X, np.unique(Y), KNN_fast())\n",
    "        r2 = cp_predict_parallel(X, Y, X, np.unique(Y), KNN_fast())\n",
    "\n",
    "        np.testing.assert_allclose(r1, r2)"
   ]
  },
  {
   "cell_type": "markdown",
   "metadata": {},
   "source": [
    "## Verify that optimized NCMs are equivalent to unoptimized ones"
   ]
  },
  {
   "cell_type": "code",
   "execution_count": 26,
   "metadata": {
    "ExecuteTime": {
     "end_time": "2021-01-27T10:00:23.239875Z",
     "start_time": "2021-01-27T09:59:28.276220Z"
    },
    "code_folding": [],
    "scrolled": false
   },
   "outputs": [
    {
     "name": "stdout",
     "output_type": "stream",
     "text": [
      "Testing: NN, NN_fast\n"
     ]
    },
    {
     "name": "stderr",
     "output_type": "stream",
     "text": [
      "."
     ]
    },
    {
     "name": "stdout",
     "output_type": "stream",
     "text": [
      "Testing: SimplifiedKNN, SimplifiedKNN_fast\n"
     ]
    },
    {
     "name": "stderr",
     "output_type": "stream",
     "text": [
      "."
     ]
    },
    {
     "name": "stdout",
     "output_type": "stream",
     "text": [
      "Testing: KNN, KNN_fast\n"
     ]
    },
    {
     "name": "stderr",
     "output_type": "stream",
     "text": [
      "."
     ]
    },
    {
     "name": "stdout",
     "output_type": "stream",
     "text": [
      "Testing: KDE, KDE_fast\n"
     ]
    },
    {
     "name": "stderr",
     "output_type": "stream",
     "text": [
      "."
     ]
    },
    {
     "name": "stdout",
     "output_type": "stream",
     "text": [
      "Testing: LSSVM, LSSVM_fast\n"
     ]
    },
    {
     "name": "stderr",
     "output_type": "stream",
     "text": [
      "."
     ]
    },
    {
     "name": "stdout",
     "output_type": "stream",
     "text": [
      "Testing: RandomForest, RandomForest_fast\n"
     ]
    },
    {
     "name": "stderr",
     "output_type": "stream",
     "text": [
      ".\n",
      "----------------------------------------------------------------------\n",
      "Ran 6 tests in 54.955s\n",
      "\n",
      "OK\n"
     ]
    }
   ],
   "source": [
    "class NCMTests(unittest.TestCase):\n",
    "    \n",
    "    def setUp(self):       \n",
    "        X, Y = load_iris(return_X_y=True)\n",
    "        Y[Y==2] = 1\n",
    "        \n",
    "        np.random.seed(0)\n",
    "        self.Xtrain, self.Xtest, self.Ytrain, self.Ytest = train_test_split(X, Y, test_size=50)\n",
    "    \n",
    "    @parameterized.expand([\n",
    "        [NN(), NN_fast()],\n",
    "        [SimplifiedKNN(), SimplifiedKNN_fast()],\n",
    "        [KNN(), KNN_fast()],\n",
    "        [KDE(), KDE_fast()],\n",
    "        [LSSVM(), LSSVM_fast()],\n",
    "        # NOTE: random forest is not an exact approximation.\n",
    "        [RandomForest(random_state=0), RandomForest_fast(random_state=0), 0.2],\n",
    "    ])\n",
    "    def test_equivalent(self, ncm_a, ncm_b, rtol=1e-07):\n",
    "        \"\"\"Are standard and optimized ncms equivalent?\n",
    "        \"\"\"\n",
    "        print(f\"Testing: {ncm_a.__class__.__name__}, {ncm_b.__class__.__name__}\")\n",
    "        ncm_a.train(self.Xtrain, self.Ytrain)\n",
    "        ncm_b.train(self.Xtrain, self.Ytrain)\n",
    "        \n",
    "        for x, y in zip(self.Xtest, self.Ytest):\n",
    "            score_x_a, scores_a = ncm_a.compute_scores(x, y)\n",
    "            score_x_b, scores_b = ncm_b.compute_scores(x, y)\n",
    "            np.testing.assert_allclose(score_x_a, score_x_b, rtol=rtol)\n",
    "            # NOTE: we sort the scores here, because for some ncms\n",
    "            # (e.g., SimplifiedKNN) the fast version returns the\n",
    "            # same scores in a different order. Of course, for the\n",
    "            # CP algorithm the order of the scores is irrelevant.\n",
    "            np.testing.assert_allclose(sorted(scores_a),\n",
    "                                       sorted(scores_b), rtol=rtol)\n",
    "\n",
    "suite = unittest.defaultTestLoader.loadTestsFromTestCase(NCMTests)\n",
    "_ = unittest.TextTestRunner().run(suite)"
   ]
  },
  {
   "cell_type": "markdown",
   "metadata": {},
   "source": [
    "# Computational performance\n",
    "\n",
    "Predictions scale linearly in the number of test\n",
    "points (times the expense of computing the prediction for one).\n",
    "\n",
    "Therefore, it's interesting to evaluate how changing the\n",
    "size of the training data affects the performance.\n",
    "We  measure the time to predict 100 test points,\n",
    "and then will be concerned in the average time this takes.\n",
    "\n",
    "We select the number of training points from the set\n",
    "`np.logspace(1, 5, 13, dtype='int').tolist()`.\n",
    "\n",
    "For these experiments the kind of data is not\n",
    "important: we only care about the running time.\n",
    "We therefore generate data by using `scikit-learn`'s\n",
    "`make_classification()`.\n",
    "\n",
    "## Note on the experiments (Eli)\n",
    "\n",
    "To run our experiments, we use a simple library we wrote, `Eli`,\n",
    "which enables launching jobs over several parameters, and\n",
    "fetching the respective results, via a simple interface.\n",
    "\n",
    "For example, suppose we want to launch function `foo(a, b)`\n",
    "for values `a = 0, 1, ..., 9` and fixed `b=5`.\n",
    "The output of the function must be a `dict` containing its\n",
    "results (e.g., `{\"res\": a+b}`).\n",
    "\n",
    "```python\n",
    "eli = Eli(\"results/\")\n",
    "\n",
    "eli.run_experiment(exp_name=\"experiment-foo\",\n",
    "                   func=foo,                      # Function to launch\n",
    "                   repetitions=5,                 # Repetitions per parameter combination\n",
    "                   n_jobs=40,                     # Number of concurrent processes\n",
    "                   automatic_seed=True,           # Automatically change numpy seed for each repetition\n",
    "                   # Parameters (appearance order matters!)\n",
    "                   a=list(range(10)),\n",
    "                   b=5,\n",
    "                  )\n",
    "```\n",
    "\n",
    "Results will be found in `results/experiment-foo`, and they can be fetched with:\n",
    "\n",
    "```python\n",
    "results = eli.fetch_results(\"experiment-foo\")\n",
    "```"
   ]
  },
  {
   "cell_type": "markdown",
   "metadata": {},
   "source": [
    "## Experiment "
   ]
  },
  {
   "cell_type": "code",
   "execution_count": 5,
   "metadata": {
    "ExecuteTime": {
     "end_time": "2021-01-27T10:11:01.911612Z",
     "start_time": "2021-01-27T10:11:01.906082Z"
    }
   },
   "outputs": [],
   "source": [
    "def evaluate_ncm(ncm, train_size, max_test_size, n_classes, n_dimensions,\n",
    "                 inductive_cp, calibration_size, timeout):\n",
    "    # Discard invalid parameter sets.\n",
    "    if inductive_cp and calibration_size is None:\n",
    "        return\n",
    "    if not inductive_cp and calibration_size is not None:\n",
    "        return\n",
    "    \n",
    "    ncm_class = eval(ncm)       # eval(): Perdoname, madre, por mi vida loca :D\n",
    "    ncm = ncm_class()\n",
    "\n",
    "    X, Y = make_classification(train_size+max_test_size,\n",
    "                               n_dimensions, n_classes=n_classes)\n",
    "\n",
    "    Xtrain, Xtest, Ytrain, Ytest = train_test_split(X, Y, test_size=max_test_size)\n",
    "\n",
    "    if inductive_cp:\n",
    "        Xtrain, Xcalib, Ytrain, Ycalib = train_test_split(Xtrain, Ytrain,\n",
    "                                                          test_size=calibration_size)\n",
    "        _, times = icp_predict(Xtrain, Ytrain, Xcalib, Ycalib,\n",
    "                               Xtest, np.unique(Y), ncm, return_time=True)\n",
    "    else:\n",
    "        _, times = cp_predict(Xtrain, Ytrain, Xtest, np.unique(Y),\n",
    "                          ncm, return_time=True, timeout=timeout)\n",
    "    \n",
    "    return times"
   ]
  },
  {
   "cell_type": "code",
   "execution_count": 6,
   "metadata": {
    "ExecuteTime": {
     "end_time": "2021-01-27T10:11:02.163326Z",
     "start_time": "2021-01-27T10:11:02.160148Z"
    },
    "tags": [
     "experiment:vary-training-data"
    ]
   },
   "outputs": [],
   "source": [
    "EXPERIMENT_NAME = \"training-size-comparison\"\n",
    "RESULTS_DIR = \"results/\"\n",
    "REPETITIONS = 5\n",
    "TRAIN_SIZE = np.logspace(1, 5, 13, dtype='int').tolist()\n",
    "MAX_TEST_SIZE = 100\n",
    "N_CLASSES = 2\n",
    "N_DIMENSIONS = 30\n",
    "TIMEOUT = 60*60*10"
   ]
  },
  {
   "cell_type": "markdown",
   "metadata": {},
   "source": [
    "### CP vs optimized CP\n",
    "\n",
    "We run the experiments for training size $n \\in [10, 10^5]$, with two exceptions:\n",
    "\n",
    "- Standard LS-SVM only runs up to 4641.\n",
    "- Standard and optimized Random Forest only run up to 46415.\n",
    "\n",
    "For larger values of $n$, the training time of the above methods (LS-SVM and Random Forest)\n",
    "would go well beyond the timeout time that we fixed for the plots (Figure 1 in paper)."
   ]
  },
  {
   "cell_type": "code",
   "execution_count": null,
   "metadata": {
    "ExecuteTime": {
     "end_time": "2020-06-09T14:14:57.639461Z",
     "start_time": "2020-06-09T14:14:57.312198Z"
    },
    "scrolled": false,
    "tags": [
     "experiment:vary-training-data"
    ]
   },
   "outputs": [],
   "source": [
    "# All nonconformity measures except for the above exceptions\n",
    "\n",
    "NCMs = [\"NN\", \"SimplifiedKNN\", \"KNN\", \"KDE\"]\n",
    "NCMs += [ncm + \"_fast\" for ncm in NCMs]\n",
    "NCMs += [\"LSSVM_fast\"]\n",
    "\n",
    "eli = Eli(RESULTS_DIR)\n",
    "eli.run_experiment(exp_name=EXPERIMENT_NAME,\n",
    "                   func=evaluate_ncm,\n",
    "                   repetitions=REPETITIONS,\n",
    "                   n_jobs=40,\n",
    "                   automatic_seed=True,\n",
    "                   # Parameters\n",
    "                   ncm=NCMs,\n",
    "                   train_size=TRAIN_SIZE,\n",
    "                   max_test_size=MAX_TEST_SIZE,\n",
    "                   n_classes=N_CLASSES,\n",
    "                   n_dimensions=N_DIMENSIONS,\n",
    "                   inductive_cp=False,\n",
    "                   calibration_size=None,\n",
    "                   timeout=TIMEOUT,\n",
    "                  )"
   ]
  },
  {
   "cell_type": "code",
   "execution_count": null,
   "metadata": {
    "ExecuteTime": {
     "end_time": "2021-01-26T18:57:35.069079Z",
     "start_time": "2021-01-26T18:57:34.936304Z"
    },
    "tags": [
     "experiment:vary-training-data"
    ]
   },
   "outputs": [],
   "source": [
    "eli = Eli(RESULTS_DIR)\n",
    "\n",
    "# LS-SVM\n",
    "eli.run_experiment(exp_name=EXPERIMENT_NAME,\n",
    "                   func=evaluate_ncm,\n",
    "                   repetitions=REPETITIONS,\n",
    "                   n_jobs=40,\n",
    "                   automatic_seed=True,\n",
    "                   # Parameters\n",
    "                   ncm=\"LSSVM\",\n",
    "                   train_size=TRAIN_SIZE[:9],\n",
    "                   max_test_size=MAX_TEST_SIZE,\n",
    "                   n_classes=N_CLASSES,\n",
    "                   n_dimensions=N_DIMENSIONS,\n",
    "                   inductive_cp=False,\n",
    "                   calibration_size=None,\n",
    "                   timeout=TIMEOUT,\n",
    "                  )\n",
    "\n",
    "# Random Forest\n",
    "eli.run_experiment(exp_name=EXPERIMENT_NAME,\n",
    "                   func=evaluate_ncm,\n",
    "                   repetitions=REPETITIONS,\n",
    "                   n_jobs=40,\n",
    "                   automatic_seed=True,\n",
    "                   # Parameters\n",
    "                   ncm=[\"RandomForest\", \"RandomForest_fast\"],\n",
    "                   train_size=TRAIN_SIZE[:12],\n",
    "                   max_test_size=MAX_TEST_SIZE,\n",
    "                   n_classes=N_CLASSES,\n",
    "                   n_dimensions=N_DIMENSIONS,\n",
    "                   inductive_cp=False,\n",
    "                   calibration_size=None,\n",
    "                   timeout=TIMEOUT,\n",
    "                  )"
   ]
  },
  {
   "cell_type": "markdown",
   "metadata": {},
   "source": [
    "### ICP\n",
    "\n",
    "For ICP we run all the methods together, with $n \\in [10, 10^5]$."
   ]
  },
  {
   "cell_type": "code",
   "execution_count": 18,
   "metadata": {
    "ExecuteTime": {
     "end_time": "2020-06-09T14:21:31.444228Z",
     "start_time": "2020-06-09T14:21:31.218960Z"
    },
    "scrolled": false,
    "tags": [
     "experiment:vary-training-data"
    ]
   },
   "outputs": [],
   "source": [
    "NCMs = [\"NN\", \"SimplifiedKNN\", \"KNN\", \"KDE\", \"LSSVM\", \"RandomForest\"]\n",
    "\n",
    "eli = Eli(RESULTS_DIR)\n",
    "eli.run_experiment(exp_name=EXPERIMENT_NAME,\n",
    "                   func=evaluate_ncm,\n",
    "                   repetitions=REPETITIONS,\n",
    "                   n_jobs=40,\n",
    "                   automatic_seed=True,\n",
    "                   # Parameters\n",
    "                   ncm=NCMs,\n",
    "                   train_size=TRAIN_SIZE,\n",
    "                   max_test_size=MAX_TEST_SIZE,\n",
    "                   n_classes=N_CLASSES,\n",
    "                   n_dimensions=N_DIMENSIONS,\n",
    "                   inductive_cp=True,\n",
    "                   calibration_size=0.5,\n",
    "                   timeout=TIMEOUT,\n",
    "                  )"
   ]
  },
  {
   "cell_type": "markdown",
   "metadata": {},
   "source": [
    "## Plots\n",
    "\n",
    "Comparing with respect to the training size."
   ]
  },
  {
   "cell_type": "code",
   "execution_count": 7,
   "metadata": {
    "ExecuteTime": {
     "end_time": "2021-01-27T10:11:48.676509Z",
     "start_time": "2021-01-27T10:11:48.151846Z"
    },
    "tags": [
     "plots"
    ]
   },
   "outputs": [
    {
     "name": "stdout",
     "output_type": "stream",
     "text": [
      "1140 observations\n"
     ]
    },
    {
     "data": {
      "text/html": [
       "<div>\n",
       "<style scoped>\n",
       "    .dataframe tbody tr th:only-of-type {\n",
       "        vertical-align: middle;\n",
       "    }\n",
       "\n",
       "    .dataframe tbody tr th {\n",
       "        vertical-align: top;\n",
       "    }\n",
       "\n",
       "    .dataframe thead th {\n",
       "        text-align: right;\n",
       "    }\n",
       "</style>\n",
       "<table border=\"1\" class=\"dataframe\">\n",
       "  <thead>\n",
       "    <tr style=\"text-align: right;\">\n",
       "      <th></th>\n",
       "      <th>name</th>\n",
       "      <th>training_time</th>\n",
       "      <th>prediction_time</th>\n",
       "      <th>reached_timeout</th>\n",
       "      <th>ncm</th>\n",
       "      <th>train_size</th>\n",
       "      <th>max_test_size</th>\n",
       "      <th>n_classes</th>\n",
       "      <th>n_dimensions</th>\n",
       "      <th>inductive_cp</th>\n",
       "      <th>calibration_size</th>\n",
       "      <th>timeout</th>\n",
       "      <th>repetition</th>\n",
       "      <th>git-commit</th>\n",
       "      <th>calibration_time</th>\n",
       "      <th>started</th>\n",
       "      <th>finished</th>\n",
       "      <th>avg_time</th>\n",
       "    </tr>\n",
       "  </thead>\n",
       "  <tbody>\n",
       "    <tr>\n",
       "      <th>0</th>\n",
       "      <td>ncm=KDE-train_size=46415-max_test_size=100-n_c...</td>\n",
       "      <td>0.010171</td>\n",
       "      <td>[12885.507175490959, 24940.601994798984, 36864...</td>\n",
       "      <td>True</td>\n",
       "      <td>KDE</td>\n",
       "      <td>46415</td>\n",
       "      <td>100</td>\n",
       "      <td>2</td>\n",
       "      <td>30</td>\n",
       "      <td>False</td>\n",
       "      <td>NaN</td>\n",
       "      <td>36000</td>\n",
       "      <td>0</td>\n",
       "      <td>f5d2dc7f7515940e571b6a6defc13c4be9eab771</td>\n",
       "      <td>NaN</td>\n",
       "      <td>None</td>\n",
       "      <td>None</td>\n",
       "      <td>12288.055179</td>\n",
       "    </tr>\n",
       "    <tr>\n",
       "      <th>1</th>\n",
       "      <td>ncm=KDE-train_size=46415-max_test_size=100-n_c...</td>\n",
       "      <td>0.012774</td>\n",
       "      <td>[9252.454903563019, 18454.531560970005, 27932....</td>\n",
       "      <td>True</td>\n",
       "      <td>KDE</td>\n",
       "      <td>46415</td>\n",
       "      <td>100</td>\n",
       "      <td>2</td>\n",
       "      <td>30</td>\n",
       "      <td>False</td>\n",
       "      <td>NaN</td>\n",
       "      <td>36000</td>\n",
       "      <td>1</td>\n",
       "      <td>f5d2dc7f7515940e571b6a6defc13c4be9eab771</td>\n",
       "      <td>NaN</td>\n",
       "      <td>None</td>\n",
       "      <td>None</td>\n",
       "      <td>9108.953952</td>\n",
       "    </tr>\n",
       "    <tr>\n",
       "      <th>2</th>\n",
       "      <td>ncm=KDE-train_size=46415-max_test_size=100-n_c...</td>\n",
       "      <td>0.010308</td>\n",
       "      <td>[11401.654167211964, 21886.129103714018, 31810...</td>\n",
       "      <td>True</td>\n",
       "      <td>KDE</td>\n",
       "      <td>46415</td>\n",
       "      <td>100</td>\n",
       "      <td>2</td>\n",
       "      <td>30</td>\n",
       "      <td>False</td>\n",
       "      <td>NaN</td>\n",
       "      <td>36000</td>\n",
       "      <td>2</td>\n",
       "      <td>f5d2dc7f7515940e571b6a6defc13c4be9eab771</td>\n",
       "      <td>NaN</td>\n",
       "      <td>None</td>\n",
       "      <td>None</td>\n",
       "      <td>10420.543970</td>\n",
       "    </tr>\n",
       "    <tr>\n",
       "      <th>3</th>\n",
       "      <td>ncm=KDE-train_size=46415-max_test_size=100-n_c...</td>\n",
       "      <td>0.007603</td>\n",
       "      <td>[9949.169903819915, 19336.9521438129, 28374.89...</td>\n",
       "      <td>True</td>\n",
       "      <td>KDE</td>\n",
       "      <td>46415</td>\n",
       "      <td>100</td>\n",
       "      <td>2</td>\n",
       "      <td>30</td>\n",
       "      <td>False</td>\n",
       "      <td>NaN</td>\n",
       "      <td>36000</td>\n",
       "      <td>3</td>\n",
       "      <td>f5d2dc7f7515940e571b6a6defc13c4be9eab771</td>\n",
       "      <td>NaN</td>\n",
       "      <td>None</td>\n",
       "      <td>None</td>\n",
       "      <td>9366.449116</td>\n",
       "    </tr>\n",
       "    <tr>\n",
       "      <th>4</th>\n",
       "      <td>ncm=KDE-train_size=46415-max_test_size=100-n_c...</td>\n",
       "      <td>0.009380</td>\n",
       "      <td>[7988.5050972230965, 15781.984849272994, 23286...</td>\n",
       "      <td>True</td>\n",
       "      <td>KDE</td>\n",
       "      <td>46415</td>\n",
       "      <td>100</td>\n",
       "      <td>2</td>\n",
       "      <td>30</td>\n",
       "      <td>False</td>\n",
       "      <td>NaN</td>\n",
       "      <td>36000</td>\n",
       "      <td>4</td>\n",
       "      <td>f5d2dc7f7515940e571b6a6defc13c4be9eab771</td>\n",
       "      <td>NaN</td>\n",
       "      <td>None</td>\n",
       "      <td>None</td>\n",
       "      <td>7277.658665</td>\n",
       "    </tr>\n",
       "  </tbody>\n",
       "</table>\n",
       "</div>"
      ],
      "text/plain": [
       "                                                name  training_time  \\\n",
       "0  ncm=KDE-train_size=46415-max_test_size=100-n_c...       0.010171   \n",
       "1  ncm=KDE-train_size=46415-max_test_size=100-n_c...       0.012774   \n",
       "2  ncm=KDE-train_size=46415-max_test_size=100-n_c...       0.010308   \n",
       "3  ncm=KDE-train_size=46415-max_test_size=100-n_c...       0.007603   \n",
       "4  ncm=KDE-train_size=46415-max_test_size=100-n_c...       0.009380   \n",
       "\n",
       "                                     prediction_time  reached_timeout  ncm  \\\n",
       "0  [12885.507175490959, 24940.601994798984, 36864...             True  KDE   \n",
       "1  [9252.454903563019, 18454.531560970005, 27932....             True  KDE   \n",
       "2  [11401.654167211964, 21886.129103714018, 31810...             True  KDE   \n",
       "3  [9949.169903819915, 19336.9521438129, 28374.89...             True  KDE   \n",
       "4  [7988.5050972230965, 15781.984849272994, 23286...             True  KDE   \n",
       "\n",
       "   train_size  max_test_size  n_classes  n_dimensions  inductive_cp  \\\n",
       "0       46415            100          2            30         False   \n",
       "1       46415            100          2            30         False   \n",
       "2       46415            100          2            30         False   \n",
       "3       46415            100          2            30         False   \n",
       "4       46415            100          2            30         False   \n",
       "\n",
       "   calibration_size  timeout  repetition  \\\n",
       "0               NaN    36000           0   \n",
       "1               NaN    36000           1   \n",
       "2               NaN    36000           2   \n",
       "3               NaN    36000           3   \n",
       "4               NaN    36000           4   \n",
       "\n",
       "                                 git-commit  calibration_time started  \\\n",
       "0  f5d2dc7f7515940e571b6a6defc13c4be9eab771               NaN    None   \n",
       "1  f5d2dc7f7515940e571b6a6defc13c4be9eab771               NaN    None   \n",
       "2  f5d2dc7f7515940e571b6a6defc13c4be9eab771               NaN    None   \n",
       "3  f5d2dc7f7515940e571b6a6defc13c4be9eab771               NaN    None   \n",
       "4  f5d2dc7f7515940e571b6a6defc13c4be9eab771               NaN    None   \n",
       "\n",
       "  finished      avg_time  \n",
       "0     None  12288.055179  \n",
       "1     None   9108.953952  \n",
       "2     None  10420.543970  \n",
       "3     None   9366.449116  \n",
       "4     None   7277.658665  "
      ]
     },
     "execution_count": 7,
     "metadata": {},
     "output_type": "execute_result"
    }
   ],
   "source": [
    "# Load data\n",
    "\n",
    "eli = Eli(RESULTS_DIR)\n",
    "results = eli.fetch_results(\"training-size-comparison\")\n",
    "\n",
    "print(f\"{len(results)} observations\")\n",
    "\n",
    "NAMES = {\"SimplifiedKNN\": \"Simplified k-NN\",\n",
    "         \"KNN\": \"k-NN\",\n",
    "         \"LSSVM\": \"LS-SVM\",\n",
    "         \"KDE\": \"KDE\",\n",
    "         \"RandomForest\": \"Random Forest\",\n",
    "        }\n",
    "TIMEOUT = 60*60*10\n",
    "\n",
    "avgerage_time = lambda vec: np.concatenate((\n",
    "                                [vec[0]],\n",
    "                                pd.Series(vec).diff()[1:]\n",
    "                            )).mean()\n",
    "\n",
    "results[\"avg_time\"] = results.prediction_time.apply(avgerage_time)\n",
    "\n",
    "results.head()"
   ]
  },
  {
   "cell_type": "markdown",
   "metadata": {},
   "source": [
    "In the following cell, we calculate the numbers reported in the paper."
   ]
  },
  {
   "cell_type": "code",
   "execution_count": 418,
   "metadata": {
    "ExecuteTime": {
     "end_time": "2020-06-04T14:52:16.822966Z",
     "start_time": "2020-06-04T14:52:16.795056Z"
    },
    "code_folding": []
   },
   "outputs": [
    {
     "name": "stdout",
     "output_type": "stream",
     "text": [
      "k-NN optimized avg pred (100k): 0.5879227737099864 seconds\n",
      "k-NN avg pred (100k): 4.063079034265224 hours\n",
      "LSSVM optimized avg pred (4641): 0.15309998713573442 seconds\n",
      "LSSVM avg pred (4641): 26.649618873749787 hours\n",
      "RF optimized avg pred (46415): 25.650968251149592 hours\n",
      "RF avg pred (46415): 44.24121027896194 hours\n",
      "k-NN (train: 100k test: 20k): 2.18417394743495 h training 3.2662376317221464 h prediction\n",
      "k-NN (train: 100k test: 20k): 0 h training 9.276436151290467 years prediction\n",
      "LSSVM optimized avg pred (100k): 3.8546546061383564 seconds\n",
      "LSSVM ICP avg pred (100k): 0.17825363874016328 seconds\n",
      "KDE optimized avg pred (100k): 0.42311669779010114 seconds\n",
      "KDE ICP avg pred (100k): 0.268278425516095 seconds\n"
     ]
    }
   ],
   "source": [
    "print(\"k-NN optimized avg pred (100k): {} seconds\".format(\n",
    "            results[(results.ncm==\"KNN_fast\") &\n",
    "                    (results.train_size==100000) &\n",
    "                    (results.inductive_cp==False)].avg_time.mean()))\n",
    "print(\"k-NN avg pred (100k): {} hours\".format(\n",
    "            results[(results.ncm==\"KNN\") &\n",
    "                    (results.train_size==100000) &\n",
    "                    (results.inductive_cp==False)].avg_time.mean()/60/60))\n",
    "\n",
    "print(\"LSSVM optimized avg pred (4641): {} seconds\".format(\n",
    "            results[(results.ncm==\"LSSVM_fast\") &\n",
    "                    (results.train_size==4641) &\n",
    "                    (results.inductive_cp==False)].avg_time.mean()))\n",
    "print(\"LSSVM avg pred (4641): {} hours\".format(\n",
    "            results[(results.ncm==\"LSSVM\") &\n",
    "                    (results.train_size==4641) &\n",
    "                    (results.inductive_cp==False)].avg_time.mean()/60/60))\n",
    "\n",
    "print(\"RF optimized avg pred (46415): {} hours\".format(\n",
    "            results[(results.ncm==\"RandomForest_fast\") &\n",
    "                    (results.inductive_cp==False) &\n",
    "                    (results.train_size==46415)].avg_time.mean()/60/60))\n",
    "print(\"RF avg pred (46415): {} hours\".format(\n",
    "            results[(results.ncm==\"RandomForest\") &\n",
    "                    (results.inductive_cp==False) &\n",
    "                    (results.train_size==46415)].avg_time.mean()/60/60))\n",
    "\n",
    "print(\"k-NN (train: 100k test: 20k): {} h training {} h prediction\".format(\n",
    "            results[(results.ncm==\"KNN_fast\") &\n",
    "                    (results.inductive_cp==False) &\n",
    "                    (results.train_size==100000)].training_time.mean()/60/60,\n",
    "            results[(results.ncm==\"KNN_fast\") &\n",
    "                    (results.inductive_cp==False) &\n",
    "                    (results.train_size==100000)].avg_time.mean()*20000/60/60))\n",
    "print(\"k-NN (train: 100k test: 20k): {} h training {} years prediction\".format(\n",
    "            0,\n",
    "            results[(results.ncm==\"KNN\") &\n",
    "                    (results.inductive_cp==False) &\n",
    "                    (results.train_size==100000)].avg_time.mean()*20000/60/60/24/365))\n",
    "\n",
    "print(\"LSSVM optimized avg pred (100k): {} seconds\".format(\n",
    "            results[(results.ncm==\"LSSVM_fast\") &\n",
    "                    (results.train_size==100000) &\n",
    "                    (results.inductive_cp==False)].avg_time.mean()))\n",
    "print(\"LSSVM ICP avg pred (100k): {} seconds\".format(\n",
    "            results[(results.ncm==\"LSSVM\") &\n",
    "                    (results.train_size==100000) &\n",
    "                    (results.inductive_cp==True)].avg_time.mean()))\n",
    "print(\"KDE optimized avg pred (100k): {} seconds\".format(\n",
    "            results[(results.ncm==\"KDE_fast\") &\n",
    "                    (results.train_size==100000) &\n",
    "                    (results.inductive_cp==False)].avg_time.mean()))\n",
    "print(\"KDE ICP avg pred (100k): {} seconds\".format(\n",
    "            results[(results.ncm==\"KDE\") &\n",
    "                    (results.train_size==100000) &\n",
    "                    (results.inductive_cp==True)].avg_time.mean()))"
   ]
  },
  {
   "cell_type": "markdown",
   "metadata": {},
   "source": [
    "Producing **Figure 1**."
   ]
  },
  {
   "cell_type": "code",
   "execution_count": 48,
   "metadata": {
    "ExecuteTime": {
     "end_time": "2021-01-27T11:37:34.848498Z",
     "start_time": "2021-01-27T11:37:29.559958Z"
    },
    "tags": [
     "plots"
    ]
   },
   "outputs": [
    {
     "data": {
      "image/png": "[encoded data removed]",
      "text/plain": [
       "<Figure size 1008x288 with 4 Axes>"
      ]
     },
     "metadata": {},
     "output_type": "display_data"
    }
   ],
   "source": [
    "fig, axes = plt.subplots(1, 4, sharex=True,\n",
    "                         figsize=(14, 4))\n",
    "colors = sns.color_palette()\n",
    "NCMS = [\"KNN\", \"LSSVM\", \"KDE\", \"RandomForest\"]\n",
    "\n",
    "for i, (ax, ncm) in enumerate(zip(axes.flat, NCMS)):\n",
    "    # CP\n",
    "    plot_data = results[((results.ncm == ncm) | (results.ncm == ncm + \"_fast\")) &\n",
    "                        (results.inductive_cp == False)]\n",
    "\n",
    "    sns.lineplot(x=\"train_size\", y=\"avg_time\",\n",
    "                 data=plot_data[plot_data.ncm==ncm],\n",
    "                 ax=ax, legend=None, label=\"Standard CP\",\n",
    "                 color=colors[0])\n",
    "    sns.lineplot(x=\"train_size\", y=\"avg_time\",\n",
    "                 data=plot_data[plot_data.ncm==ncm+\"_fast\"],\n",
    "                 ax=ax, legend=None, label=\"Optimized CP\",\n",
    "                 color=colors[1])\n",
    "    \n",
    "    # ICP\n",
    "    plot_data_icp = results[(results.ncm == ncm) &\n",
    "                        (results.inductive_cp == True) &\n",
    "                        (results.calibration_size == 0.5)]\n",
    "    \n",
    "    sns.lineplot(x=\"train_size\", y=\"avg_time\", data=plot_data_icp,\n",
    "                 ax=ax, legend=False, label=\"ICP\",\n",
    "                 color=colors[-3])\n",
    "    \n",
    "    ax.lines[0].set_linestyle(\"--\")\n",
    "    ax.lines[2].set_linestyle(\":\")\n",
    "\n",
    "    ax.plot(range(10**5), [TIMEOUT]*10**5, color='k', ls=':')\n",
    "    ax.set_yscale(\"log\")\n",
    "    ax.xaxis.set_major_formatter(ticker.EngFormatter())\n",
    "    ax.grid()\n",
    "    ax.set_xlim([0, 10**5])\n",
    "    ax.set_ylim([10**-2, 10**5])\n",
    "    ax.set_title(NAMES[ncm])\n",
    "    ax.set_xlabel(\"Training set size\")\n",
    "    ax.set_ylabel(\"Average prediction time (s)\")\n",
    "    if i == 0:\n",
    "        ax.set_ylabel(\"Average prediction time (s)\")\n",
    "        ax.legend(title=\"\", loc=\"best\", frameon=True, labels=[\"Standard\", \"Optimized\", \"ICP\"])\n",
    "    else:\n",
    "        ax.set_ylabel(None)\n",
    "        plt.setp(ax.get_yticklabels(), visible=False)\n",
    "\n",
    "\n",
    "plt.tight_layout()\n",
    "plt.savefig(f\"training-size-comparison-all.pdf\", dpi=DPI)"
   ]
  },
  {
   "cell_type": "markdown",
   "metadata": {},
   "source": [
    "Producing **Figure 5**."
   ]
  },
  {
   "cell_type": "code",
   "execution_count": 49,
   "metadata": {
    "ExecuteTime": {
     "end_time": "2021-01-27T11:37:49.772104Z",
     "start_time": "2021-01-27T11:37:46.802533Z"
    }
   },
   "outputs": [
    {
     "data": {
      "image/png": "[encoded data removed]",
      "text/plain": [
       "<Figure size 540x288 with 2 Axes>"
      ]
     },
     "metadata": {},
     "output_type": "display_data"
    }
   ],
   "source": [
    "fig, axes = plt.subplots(1, 2, sharex=True,\n",
    "                         figsize=(7.5, 4))\n",
    "colors = sns.color_palette()\n",
    "NCMS = [\"SimplifiedKNN\", \"KNN\"]\n",
    "\n",
    "for i, (ax, ncm) in enumerate(zip(axes.flat, NCMS)):\n",
    "    plot_data = results[((results.ncm == ncm) | (results.ncm == ncm + \"_fast\")) &\n",
    "                        (results.inductive_cp == False)]\n",
    "\n",
    "    sns.lineplot(x=\"train_size\", y=\"avg_time\",\n",
    "                 data=plot_data[plot_data.ncm==ncm],\n",
    "                 ax=ax, legend=None, label=\"Standard CP\",\n",
    "                 color=colors[0])\n",
    "    sns.lineplot(x=\"train_size\", y=\"avg_time\",\n",
    "                 data=plot_data[plot_data.ncm==ncm+\"_fast\"],\n",
    "                 ax=ax, legend=None, label=\"Optimized CP\",\n",
    "                 color=colors[1])\n",
    "    \n",
    "    # ICP\n",
    "    plot_data = results[(results.ncm == ncm) &\n",
    "                        (results.inductive_cp == True) &\n",
    "                        (results.calibration_size == 0.5)]\n",
    "\n",
    "    sns.lineplot(x=\"train_size\", y=\"avg_time\", data=plot_data,\n",
    "                 ax=ax, legend=False, label=\"ICP\",\n",
    "                 color=colors[-3])\n",
    "\n",
    "    ax.lines[0].set_linestyle(\"--\")\n",
    "    ax.lines[2].set_linestyle(\":\")\n",
    "\n",
    "    ax.plot(range(10**5), [TIMEOUT]*10**5, color='k', ls=':')\n",
    "    ax.set_yscale(\"log\")\n",
    "    ax.xaxis.set_major_formatter(ticker.EngFormatter())\n",
    "    ax.grid()\n",
    "    ax.set_xlim([0, 10**5])\n",
    "    ax.set_ylim([10**-2, 10**5])\n",
    "    ax.set_title(NAMES[ncm])\n",
    "    ax.set_xlabel(\"Training set size\")\n",
    "    if i == 0:\n",
    "        ax.set_ylabel(\"Average prediction time (s)\")\n",
    "        ax.legend(title=\"\", loc=\"best\", frameon=True, labels=[\"Standard\", \"Optimized\", \"ICP\"])\n",
    "    else:\n",
    "        ax.set_ylabel(None)\n",
    "        plt.setp(ax.get_yticklabels(), visible=False)\n",
    "\n",
    "plt.tight_layout()\n",
    "plt.savefig(f\"training-size-comparison-fullknn-all.pdf\", dpi=DPI)"
   ]
  },
  {
   "cell_type": "markdown",
   "metadata": {},
   "source": [
    "# Training time of optimized CP\n",
    "\n",
    "We measure the training time of optimized nonconformity measures separately.\n",
    "This is used to produce **Figure 2**.\n",
    "\n",
    "## Experiment"
   ]
  },
  {
   "cell_type": "code",
   "execution_count": 19,
   "metadata": {
    "ExecuteTime": {
     "end_time": "2020-06-09T14:34:18.420992Z",
     "start_time": "2020-06-09T14:34:18.237098Z"
    }
   },
   "outputs": [],
   "source": [
    "def timeit(foo, *args, **kwargs):\n",
    "    start = time.perf_counter()\n",
    "    res = foo(*args, **kwargs)\n",
    "    return time.perf_counter() - start, res\n",
    "\n",
    "def measure_training_time(ncm, n):\n",
    "    ncm = eval(ncm)()\n",
    "    X, Y = make_classification(n, 30, n_classes=2)\n",
    "\n",
    "    time, _ = timeit(ncm.train, X, Y)\n",
    "\n",
    "    return {\"training-time\": time}\n",
    "\n",
    "NCM_BASE = [\"NN\", \"SimplifiedKNN\", \"KNN\", \"RandomForest\", \"KDE\", \"LSSVM\"]\n",
    "NCM_FAST = [f\"{ncm}_fast\" for ncm in NCM_BASE]\n",
    "TRAIN_SIZE = np.logspace(1, 5, 13, dtype='int').tolist()\n",
    "\n",
    "eli = Eli(RESULTS_DIR)\n",
    "\n",
    "eli.run_experiment(exp_name=\"training-time\",\n",
    "                   func=measure_training_time,\n",
    "                   repetitions=5,\n",
    "                   n_jobs=1,\n",
    "                   automatic_seed=True,\n",
    "                   ncm=NCM_FAST,\n",
    "                   n=TRAIN_SIZE,\n",
    "                  )"
   ]
  },
  {
   "cell_type": "markdown",
   "metadata": {},
   "source": [
    "## Plots"
   ]
  },
  {
   "cell_type": "code",
   "execution_count": 496,
   "metadata": {
    "ExecuteTime": {
     "end_time": "2020-06-08T17:40:01.932033Z",
     "start_time": "2020-06-08T17:40:00.807412Z"
    }
   },
   "outputs": [
    {
     "data": {
      "text/html": [
       "<div>\n",
       "<style scoped>\n",
       "    .dataframe tbody tr th:only-of-type {\n",
       "        vertical-align: middle;\n",
       "    }\n",
       "\n",
       "    .dataframe tbody tr th {\n",
       "        vertical-align: top;\n",
       "    }\n",
       "\n",
       "    .dataframe thead th {\n",
       "        text-align: right;\n",
       "    }\n",
       "</style>\n",
       "<table border=\"1\" class=\"dataframe\">\n",
       "  <thead>\n",
       "    <tr style=\"text-align: right;\">\n",
       "      <th></th>\n",
       "      <th>name</th>\n",
       "      <th>training-time</th>\n",
       "      <th>ncm</th>\n",
       "      <th>n</th>\n",
       "      <th>repetition</th>\n",
       "      <th>git-commit</th>\n",
       "      <th>started</th>\n",
       "      <th>finished</th>\n",
       "    </tr>\n",
       "  </thead>\n",
       "  <tbody>\n",
       "    <tr>\n",
       "      <th>0</th>\n",
       "      <td>ncm=RandomForest_fast-n=46</td>\n",
       "      <td>0.016250</td>\n",
       "      <td>RandomForest_fast</td>\n",
       "      <td>46</td>\n",
       "      <td>1</td>\n",
       "      <td>429857c00ab0d3e8f1cdc09eba4fffc1c3f36348</td>\n",
       "      <td>2020-06-01T13:39:04.863583+00:00</td>\n",
       "      <td>2020-06-01T13:39:04.881405+00:00</td>\n",
       "    </tr>\n",
       "    <tr>\n",
       "      <th>1</th>\n",
       "      <td>ncm=RandomForest_fast-n=46</td>\n",
       "      <td>0.020136</td>\n",
       "      <td>RandomForest_fast</td>\n",
       "      <td>46</td>\n",
       "      <td>4</td>\n",
       "      <td>429857c00ab0d3e8f1cdc09eba4fffc1c3f36348</td>\n",
       "      <td>2020-06-01T13:39:04.997727+00:00</td>\n",
       "      <td>2020-06-01T13:39:05.019399+00:00</td>\n",
       "    </tr>\n",
       "    <tr>\n",
       "      <th>2</th>\n",
       "      <td>ncm=RandomForest_fast-n=46</td>\n",
       "      <td>0.016646</td>\n",
       "      <td>RandomForest_fast</td>\n",
       "      <td>46</td>\n",
       "      <td>2</td>\n",
       "      <td>429857c00ab0d3e8f1cdc09eba4fffc1c3f36348</td>\n",
       "      <td>2020-06-01T13:39:04.907598+00:00</td>\n",
       "      <td>2020-06-01T13:39:04.925580+00:00</td>\n",
       "    </tr>\n",
       "    <tr>\n",
       "      <th>3</th>\n",
       "      <td>ncm=RandomForest_fast-n=46</td>\n",
       "      <td>0.017499</td>\n",
       "      <td>RandomForest_fast</td>\n",
       "      <td>46</td>\n",
       "      <td>3</td>\n",
       "      <td>429857c00ab0d3e8f1cdc09eba4fffc1c3f36348</td>\n",
       "      <td>2020-06-01T13:39:04.953243+00:00</td>\n",
       "      <td>2020-06-01T13:39:04.972280+00:00</td>\n",
       "    </tr>\n",
       "    <tr>\n",
       "      <th>4</th>\n",
       "      <td>ncm=RandomForest_fast-n=46</td>\n",
       "      <td>0.015538</td>\n",
       "      <td>RandomForest_fast</td>\n",
       "      <td>46</td>\n",
       "      <td>0</td>\n",
       "      <td>429857c00ab0d3e8f1cdc09eba4fffc1c3f36348</td>\n",
       "      <td>2020-06-01T13:39:04.818462+00:00</td>\n",
       "      <td>2020-06-01T13:39:04.835420+00:00</td>\n",
       "    </tr>\n",
       "  </tbody>\n",
       "</table>\n",
       "</div>"
      ],
      "text/plain": [
       "                         name  training-time                ncm   n  \\\n",
       "0  ncm=RandomForest_fast-n=46       0.016250  RandomForest_fast  46   \n",
       "1  ncm=RandomForest_fast-n=46       0.020136  RandomForest_fast  46   \n",
       "2  ncm=RandomForest_fast-n=46       0.016646  RandomForest_fast  46   \n",
       "3  ncm=RandomForest_fast-n=46       0.017499  RandomForest_fast  46   \n",
       "4  ncm=RandomForest_fast-n=46       0.015538  RandomForest_fast  46   \n",
       "\n",
       "   repetition                                git-commit  \\\n",
       "0           1  429857c00ab0d3e8f1cdc09eba4fffc1c3f36348   \n",
       "1           4  429857c00ab0d3e8f1cdc09eba4fffc1c3f36348   \n",
       "2           2  429857c00ab0d3e8f1cdc09eba4fffc1c3f36348   \n",
       "3           3  429857c00ab0d3e8f1cdc09eba4fffc1c3f36348   \n",
       "4           0  429857c00ab0d3e8f1cdc09eba4fffc1c3f36348   \n",
       "\n",
       "                            started                          finished  \n",
       "0  2020-06-01T13:39:04.863583+00:00  2020-06-01T13:39:04.881405+00:00  \n",
       "1  2020-06-01T13:39:04.997727+00:00  2020-06-01T13:39:05.019399+00:00  \n",
       "2  2020-06-01T13:39:04.907598+00:00  2020-06-01T13:39:04.925580+00:00  \n",
       "3  2020-06-01T13:39:04.953243+00:00  2020-06-01T13:39:04.972280+00:00  \n",
       "4  2020-06-01T13:39:04.818462+00:00  2020-06-01T13:39:04.835420+00:00  "
      ]
     },
     "execution_count": 496,
     "metadata": {},
     "output_type": "execute_result"
    }
   ],
   "source": [
    "eli = Eli(RESULTS_DIR)\n",
    "results = eli.fetch_results(\"training-time\")\n",
    "results.head()"
   ]
  },
  {
   "cell_type": "markdown",
   "metadata": {},
   "source": [
    "Producing **Figure 2**."
   ]
  },
  {
   "cell_type": "code",
   "execution_count": 497,
   "metadata": {
    "ExecuteTime": {
     "end_time": "2020-06-08T17:40:05.119930Z",
     "start_time": "2020-06-08T17:40:03.779723Z"
    },
    "tags": [
     "plots"
    ]
   },
   "outputs": [
    {
     "name": "stderr",
     "output_type": "stream",
     "text": [
      "Invalid limit will be ignored.\n"
     ]
    },
    {
     "data": {
      "image/png": "[encoded data removed]",
      "text/plain": [
       "<Figure size 324x288 with 1 Axes>"
      ]
     },
     "metadata": {},
     "output_type": "display_data"
    }
   ],
   "source": [
    "NAMES = {\"SimplifiedKNN\": \"Simplified k-NN\",\n",
    "         \"KNN\": \"k-NN\",\n",
    "         \"LSSVM\": \"LS-SVM\",\n",
    "         \"KDE\": \"KDE\",\n",
    "         \"RandomForest\": \"Random Forest\",\n",
    "        }\n",
    "NCM_SORTED = [\"LSSVM\", \"KNN\", \"SimplifiedKNN\", \"KDE\", \"RandomForest\"]\n",
    "\n",
    "fig, ax = plt.subplots(figsize=(4.5, 4))\n",
    "\n",
    "plot_data = results\n",
    "\n",
    "# Sort labels\n",
    "plot_data.ncm = [ncm.replace(\"_fast\", \"\") for ncm in plot_data.ncm]\n",
    "plot_data.ncm = pd.Categorical(plot_data.ncm, NCM_SORTED)\n",
    "plot_data = plot_data.sort_values(\"ncm\")\n",
    "\n",
    "# Replace with nice names\n",
    "plot_data.ncm = plot_data.ncm.apply(lambda ncm: NAMES[ncm])\n",
    "\n",
    "g = sns.lineplot(x=\"n\", y=\"training-time\", data=plot_data,\n",
    "             hue=\"ncm\", style=\"ncm\", ax=ax)\n",
    "\n",
    "# Remove legend title.\n",
    "handles, labels = ax.get_legend_handles_labels()\n",
    "ax.legend(handles=handles[1:], labels=labels[1:],\n",
    "          frameon=True, loc=\"best\")\n",
    "\n",
    "ax.set_yscale(\"log\")\n",
    "ax.set_xlim([0, 10**5])\n",
    "ax.set_ylim([0, 10**5])\n",
    "ax.xaxis.set_major_formatter(ticker.EngFormatter())\n",
    "ax.set_xlabel(\"Training set size\")\n",
    "ax.set_ylabel(\"Training time (s)\")\n",
    "ax.grid()\n",
    "\n",
    "fig.tight_layout()\n",
    "\n",
    "plt.savefig(\"training-time.pdf\", dpi=DPI)"
   ]
  },
  {
   "cell_type": "markdown",
   "metadata": {},
   "source": [
    "# Multiprocessing comparison\n",
    "\n",
    "We measure whether it's best to use multiprocessing or not, both\n",
    "with CP and ICP, with optimized and unoptimized nonconformity measures.\n",
    "\n",
    "## Experiments"
   ]
  },
  {
   "cell_type": "code",
   "execution_count": 21,
   "metadata": {
    "ExecuteTime": {
     "end_time": "2020-06-09T14:44:37.947364Z",
     "start_time": "2020-06-09T14:44:37.936046Z"
    },
    "code_folding": [
     0,
     6,
     12,
     18
    ],
    "scrolled": true,
    "tags": [
     "experiment:to-parallel"
    ]
   },
   "outputs": [],
   "source": [
    "def generic1000():\n",
    "    X, Y = make_classification(1000, 30, n_classes=2)\n",
    "    Xtrain, Xtest, Ytrain, Ytest = train_test_split(X, Y, train_size=0.7)\n",
    "    \n",
    "    return Xtrain, Ytrain, Xtest, Ytest, \"classification\"\n",
    "\n",
    "def generic100000():\n",
    "    X, Y = make_classification(100000, 30, n_classes=2)\n",
    "    Xtrain, Xtest, Ytrain, Ytest = train_test_split(X, Y, train_size=0.7)\n",
    "    \n",
    "    return Xtrain, Ytrain, Xtest, Ytest, \"classification\"\n",
    "\n",
    "LOAD_DATASET = dict(\n",
    "    generic1000=generic1000,\n",
    "    generic100000=generic100000,\n",
    ")\n",
    "\n",
    "\n",
    "def timeit(foo, *args, **kwargs):\n",
    "    start = time.perf_counter()\n",
    "    foo(*args, **kwargs)\n",
    "    return time.perf_counter() - start\n",
    "\n",
    "def cp_classification(ncm, dataset, parallel=False):\n",
    "    # Load NCM.\n",
    "    ncm_class = eval(ncm)       # eval: Perdoname, madre, por mi vida loca :D\n",
    "    ncm = ncm_class()\n",
    "\n",
    "    # Load data.\n",
    "    Xtrain, Ytrain, Xtest, Ytest, task = LOAD_DATASET[dataset]()\n",
    "    if task == \"classification\":\n",
    "        labels = set(Ytrain) | set(Ytest)\n",
    "    else:\n",
    "        raise Exception(f\"Task {task} undefined.\")\n",
    "\n",
    "    func = cp_predict_parallel if parallel else cp_predict\n",
    "    pvalues = func(Xtrain, Ytrain, Xtest, labels, ncm=ncm)\n",
    "\n",
    "\n",
    "def time_methods(ncm, dataset):\n",
    "    return {\"CP\": timeit(cp_classification, ncm, dataset, parallel=False),\n",
    "            \"CP Parallel\": timeit(cp_classification, ncm, dataset, parallel=True),\n",
    "           }"
   ]
  },
  {
   "cell_type": "code",
   "execution_count": 23,
   "metadata": {
    "ExecuteTime": {
     "end_time": "2020-06-09T14:45:07.727595Z",
     "start_time": "2020-06-09T14:45:07.714517Z"
    }
   },
   "outputs": [],
   "source": [
    "NCMs = [\"NN\", \"LSSVM\", \"SimplifiedKNN\", \"KNN\", \"KDE\", \"RandomForest\"]\n",
    "NCMs += [x + \"_fast\" for x in NCMs]\n",
    "\n",
    "eli = Eli(RESULTS_DIR)\n",
    "\n",
    "# First run for all with a dataset of 1k examples\n",
    "eli.run_experiment(exp_name=\"to-parallel-or-not\",\n",
    "                   func=time_methods,\n",
    "                   repetitions=1,\n",
    "                   n_jobs=1,\n",
    "                   automatic_seed=True,\n",
    "                   # Parameters\n",
    "                   dataset=\"generic1000\",\n",
    "                   ncm=NCMs,\n",
    "                  )\n",
    "\n",
    "# Run just for optimized k-NN for a dataset of 100k examples\n",
    "eli.run_experiment(exp_name=\"to-parallel-or-not\",\n",
    "                   func=time_methods,\n",
    "                   repetitions=1,\n",
    "                   n_jobs=1,\n",
    "                   automatic_seed=True,\n",
    "                   # Parameters\n",
    "                   dataset=\"generic100000\",\n",
    "                   ncm=\"KNN_fast\",\n",
    "                  )"
   ]
  },
  {
   "cell_type": "markdown",
   "metadata": {},
   "source": [
    "## Plots"
   ]
  },
  {
   "cell_type": "code",
   "execution_count": 24,
   "metadata": {
    "ExecuteTime": {
     "end_time": "2020-06-09T14:47:00.268555Z",
     "start_time": "2020-06-09T14:46:59.550395Z"
    },
    "tags": [
     "plots"
    ]
   },
   "outputs": [
    {
     "data": {
      "text/html": [
       "<div>\n",
       "<style scoped>\n",
       "    .dataframe tbody tr th:only-of-type {\n",
       "        vertical-align: middle;\n",
       "    }\n",
       "\n",
       "    .dataframe tbody tr th {\n",
       "        vertical-align: top;\n",
       "    }\n",
       "\n",
       "    .dataframe thead th {\n",
       "        text-align: right;\n",
       "    }\n",
       "</style>\n",
       "<table border=\"1\" class=\"dataframe\">\n",
       "  <thead>\n",
       "    <tr style=\"text-align: right;\">\n",
       "      <th></th>\n",
       "      <th>name</th>\n",
       "      <th>CP</th>\n",
       "      <th>CP Parallel</th>\n",
       "      <th>ICP</th>\n",
       "      <th>ICP Parallel</th>\n",
       "      <th>dataset</th>\n",
       "      <th>ncm</th>\n",
       "      <th>repetition</th>\n",
       "      <th>git-commit</th>\n",
       "      <th>started</th>\n",
       "      <th>finished</th>\n",
       "    </tr>\n",
       "  </thead>\n",
       "  <tbody>\n",
       "    <tr>\n",
       "      <th>0</th>\n",
       "      <td>dataset=generic100-ncm=KNN</td>\n",
       "      <td>0.535775</td>\n",
       "      <td>0.251607</td>\n",
       "      <td>0.026496</td>\n",
       "      <td>0.545737</td>\n",
       "      <td>generic100</td>\n",
       "      <td>KNN</td>\n",
       "      <td>1</td>\n",
       "      <td>2744c71e51b964bd181db9debe503854ef6cc7ff</td>\n",
       "      <td>2020-05-27T14:11:07.911991+00:00</td>\n",
       "      <td>2020-05-27T14:11:09.271834+00:00</td>\n",
       "    </tr>\n",
       "    <tr>\n",
       "      <th>1</th>\n",
       "      <td>dataset=generic100-ncm=KNN</td>\n",
       "      <td>0.545959</td>\n",
       "      <td>0.262182</td>\n",
       "      <td>0.046302</td>\n",
       "      <td>0.714302</td>\n",
       "      <td>generic100</td>\n",
       "      <td>KNN</td>\n",
       "      <td>4</td>\n",
       "      <td>2744c71e51b964bd181db9debe503854ef6cc7ff</td>\n",
       "      <td>2020-05-27T14:11:12.488226+00:00</td>\n",
       "      <td>2020-05-27T14:11:14.057200+00:00</td>\n",
       "    </tr>\n",
       "    <tr>\n",
       "      <th>2</th>\n",
       "      <td>dataset=generic100-ncm=KNN</td>\n",
       "      <td>0.528015</td>\n",
       "      <td>0.241308</td>\n",
       "      <td>0.029529</td>\n",
       "      <td>0.535541</td>\n",
       "      <td>generic100</td>\n",
       "      <td>KNN</td>\n",
       "      <td>2</td>\n",
       "      <td>2744c71e51b964bd181db9debe503854ef6cc7ff</td>\n",
       "      <td>2020-05-27T14:11:09.295879+00:00</td>\n",
       "      <td>2020-05-27T14:11:10.630496+00:00</td>\n",
       "    </tr>\n",
       "    <tr>\n",
       "      <th>3</th>\n",
       "      <td>dataset=generic100-ncm=KNN</td>\n",
       "      <td>0.821075</td>\n",
       "      <td>0.294645</td>\n",
       "      <td>0.029995</td>\n",
       "      <td>0.660191</td>\n",
       "      <td>generic100</td>\n",
       "      <td>KNN</td>\n",
       "      <td>3</td>\n",
       "      <td>2744c71e51b964bd181db9debe503854ef6cc7ff</td>\n",
       "      <td>2020-05-27T14:11:10.657498+00:00</td>\n",
       "      <td>2020-05-27T14:11:12.463607+00:00</td>\n",
       "    </tr>\n",
       "    <tr>\n",
       "      <th>4</th>\n",
       "      <td>dataset=generic100-ncm=KNN</td>\n",
       "      <td>0.561925</td>\n",
       "      <td>0.259960</td>\n",
       "      <td>0.031806</td>\n",
       "      <td>0.621196</td>\n",
       "      <td>generic100</td>\n",
       "      <td>KNN</td>\n",
       "      <td>0</td>\n",
       "      <td>2744c71e51b964bd181db9debe503854ef6cc7ff</td>\n",
       "      <td>2020-05-27T14:11:06.411604+00:00</td>\n",
       "      <td>2020-05-27T14:11:07.886724+00:00</td>\n",
       "    </tr>\n",
       "  </tbody>\n",
       "</table>\n",
       "</div>"
      ],
      "text/plain": [
       "                         name        CP  CP Parallel       ICP  ICP Parallel  \\\n",
       "0  dataset=generic100-ncm=KNN  0.535775     0.251607  0.026496      0.545737   \n",
       "1  dataset=generic100-ncm=KNN  0.545959     0.262182  0.046302      0.714302   \n",
       "2  dataset=generic100-ncm=KNN  0.528015     0.241308  0.029529      0.535541   \n",
       "3  dataset=generic100-ncm=KNN  0.821075     0.294645  0.029995      0.660191   \n",
       "4  dataset=generic100-ncm=KNN  0.561925     0.259960  0.031806      0.621196   \n",
       "\n",
       "      dataset  ncm  repetition                                git-commit  \\\n",
       "0  generic100  KNN           1  2744c71e51b964bd181db9debe503854ef6cc7ff   \n",
       "1  generic100  KNN           4  2744c71e51b964bd181db9debe503854ef6cc7ff   \n",
       "2  generic100  KNN           2  2744c71e51b964bd181db9debe503854ef6cc7ff   \n",
       "3  generic100  KNN           3  2744c71e51b964bd181db9debe503854ef6cc7ff   \n",
       "4  generic100  KNN           0  2744c71e51b964bd181db9debe503854ef6cc7ff   \n",
       "\n",
       "                            started                          finished  \n",
       "0  2020-05-27T14:11:07.911991+00:00  2020-05-27T14:11:09.271834+00:00  \n",
       "1  2020-05-27T14:11:12.488226+00:00  2020-05-27T14:11:14.057200+00:00  \n",
       "2  2020-05-27T14:11:09.295879+00:00  2020-05-27T14:11:10.630496+00:00  \n",
       "3  2020-05-27T14:11:10.657498+00:00  2020-05-27T14:11:12.463607+00:00  \n",
       "4  2020-05-27T14:11:06.411604+00:00  2020-05-27T14:11:07.886724+00:00  "
      ]
     },
     "execution_count": 24,
     "metadata": {},
     "output_type": "execute_result"
    }
   ],
   "source": [
    "eli = Eli(RESULTS_DIR)\n",
    "results = eli.fetch_results(\"to-parallel-or-not\")\n",
    "\n",
    "results.head()"
   ]
  },
  {
   "cell_type": "code",
   "execution_count": 27,
   "metadata": {
    "ExecuteTime": {
     "end_time": "2020-06-09T14:48:33.295235Z",
     "start_time": "2020-06-09T14:48:33.232696Z"
    },
    "code_folding": [
     0
    ],
    "scrolled": false,
    "tags": [
     "plots"
    ]
   },
   "outputs": [
    {
     "name": "stdout",
     "output_type": "stream",
     "text": [
      "generic1000\n"
     ]
    },
    {
     "data": {
      "text/html": [
       "<style  type=\"text/css\" >\n",
       "    #T_4a904f48_aa60_11ea_9a64_76aec331b5adrow0_col1 {\n",
       "            background-color:  darkorange;\n",
       "        }    #T_4a904f48_aa60_11ea_9a64_76aec331b5adrow1_col1 {\n",
       "            background-color:  darkorange;\n",
       "        }    #T_4a904f48_aa60_11ea_9a64_76aec331b5adrow2_col1 {\n",
       "            background-color:  darkorange;\n",
       "        }    #T_4a904f48_aa60_11ea_9a64_76aec331b5adrow3_col1 {\n",
       "            background-color:  darkorange;\n",
       "        }    #T_4a904f48_aa60_11ea_9a64_76aec331b5adrow4_col1 {\n",
       "            background-color:  darkorange;\n",
       "        }    #T_4a904f48_aa60_11ea_9a64_76aec331b5adrow5_col1 {\n",
       "            background-color:  darkorange;\n",
       "        }    #T_4a904f48_aa60_11ea_9a64_76aec331b5adrow6_col0 {\n",
       "            background-color:  darkorange;\n",
       "        }    #T_4a904f48_aa60_11ea_9a64_76aec331b5adrow7_col1 {\n",
       "            background-color:  darkorange;\n",
       "        }    #T_4a904f48_aa60_11ea_9a64_76aec331b5adrow8_col0 {\n",
       "            background-color:  darkorange;\n",
       "        }    #T_4a904f48_aa60_11ea_9a64_76aec331b5adrow9_col1 {\n",
       "            background-color:  darkorange;\n",
       "        }    #T_4a904f48_aa60_11ea_9a64_76aec331b5adrow10_col1 {\n",
       "            background-color:  darkorange;\n",
       "        }    #T_4a904f48_aa60_11ea_9a64_76aec331b5adrow11_col1 {\n",
       "            background-color:  darkorange;\n",
       "        }</style><table id=\"T_4a904f48_aa60_11ea_9a64_76aec331b5ad\" ><thead>    <tr>        <th class=\"blank level0\" ></th>        <th class=\"col_heading level0 col0\" >CP</th>        <th class=\"col_heading level0 col1\" >CP Parallel</th>    </tr>    <tr>        <th class=\"index_name level0\" >NCM</th>        <th class=\"blank\" ></th>        <th class=\"blank\" ></th>    </tr></thead><tbody>\n",
       "                <tr>\n",
       "                        <th id=\"T_4a904f48_aa60_11ea_9a64_76aec331b5adlevel0_row0\" class=\"row_heading level0 row0\" >NN</th>\n",
       "                        <td id=\"T_4a904f48_aa60_11ea_9a64_76aec331b5adrow0_col0\" class=\"data row0 col0\" >75.038471</td>\n",
       "                        <td id=\"T_4a904f48_aa60_11ea_9a64_76aec331b5adrow0_col1\" class=\"data row0 col1\" >4.041478</td>\n",
       "            </tr>\n",
       "            <tr>\n",
       "                        <th id=\"T_4a904f48_aa60_11ea_9a64_76aec331b5adlevel0_row1\" class=\"row_heading level0 row1\" >SimplifiedKNN</th>\n",
       "                        <td id=\"T_4a904f48_aa60_11ea_9a64_76aec331b5adrow1_col0\" class=\"data row1 col0\" >74.595183</td>\n",
       "                        <td id=\"T_4a904f48_aa60_11ea_9a64_76aec331b5adrow1_col1\" class=\"data row1 col1\" >3.945033</td>\n",
       "            </tr>\n",
       "            <tr>\n",
       "                        <th id=\"T_4a904f48_aa60_11ea_9a64_76aec331b5adlevel0_row2\" class=\"row_heading level0 row2\" >KNN</th>\n",
       "                        <td id=\"T_4a904f48_aa60_11ea_9a64_76aec331b5adrow2_col0\" class=\"data row2 col0\" >82.144661</td>\n",
       "                        <td id=\"T_4a904f48_aa60_11ea_9a64_76aec331b5adrow2_col1\" class=\"data row2 col1\" >4.110659</td>\n",
       "            </tr>\n",
       "            <tr>\n",
       "                        <th id=\"T_4a904f48_aa60_11ea_9a64_76aec331b5adlevel0_row3\" class=\"row_heading level0 row3\" >KDE</th>\n",
       "                        <td id=\"T_4a904f48_aa60_11ea_9a64_76aec331b5adrow3_col0\" class=\"data row3 col0\" >138.483183</td>\n",
       "                        <td id=\"T_4a904f48_aa60_11ea_9a64_76aec331b5adrow3_col1\" class=\"data row3 col1\" >6.661167</td>\n",
       "            </tr>\n",
       "            <tr>\n",
       "                        <th id=\"T_4a904f48_aa60_11ea_9a64_76aec331b5adlevel0_row4\" class=\"row_heading level0 row4\" >LSSVM</th>\n",
       "                        <td id=\"T_4a904f48_aa60_11ea_9a64_76aec331b5adrow4_col0\" class=\"data row4 col0\" >8852.179454</td>\n",
       "                        <td id=\"T_4a904f48_aa60_11ea_9a64_76aec331b5adrow4_col1\" class=\"data row4 col1\" >624.744138</td>\n",
       "            </tr>\n",
       "            <tr>\n",
       "                        <th id=\"T_4a904f48_aa60_11ea_9a64_76aec331b5adlevel0_row5\" class=\"row_heading level0 row5\" >RandomForest</th>\n",
       "                        <td id=\"T_4a904f48_aa60_11ea_9a64_76aec331b5adrow5_col0\" class=\"data row5 col0\" >5061.670597</td>\n",
       "                        <td id=\"T_4a904f48_aa60_11ea_9a64_76aec331b5adrow5_col1\" class=\"data row5 col1\" >225.752851</td>\n",
       "            </tr>\n",
       "            <tr>\n",
       "                        <th id=\"T_4a904f48_aa60_11ea_9a64_76aec331b5adlevel0_row6\" class=\"row_heading level0 row6\" >NN_fast</th>\n",
       "                        <td id=\"T_4a904f48_aa60_11ea_9a64_76aec331b5adrow6_col0\" class=\"data row6 col0\" >1.404174</td>\n",
       "                        <td id=\"T_4a904f48_aa60_11ea_9a64_76aec331b5adrow6_col1\" class=\"data row6 col1\" >1.466071</td>\n",
       "            </tr>\n",
       "            <tr>\n",
       "                        <th id=\"T_4a904f48_aa60_11ea_9a64_76aec331b5adlevel0_row7\" class=\"row_heading level0 row7\" >SimplifiedKNN_fast</th>\n",
       "                        <td id=\"T_4a904f48_aa60_11ea_9a64_76aec331b5adrow7_col0\" class=\"data row7 col0\" >1.294473</td>\n",
       "                        <td id=\"T_4a904f48_aa60_11ea_9a64_76aec331b5adrow7_col1\" class=\"data row7 col1\" >0.432346</td>\n",
       "            </tr>\n",
       "            <tr>\n",
       "                        <th id=\"T_4a904f48_aa60_11ea_9a64_76aec331b5adlevel0_row8\" class=\"row_heading level0 row8\" >KNN_fast</th>\n",
       "                        <td id=\"T_4a904f48_aa60_11ea_9a64_76aec331b5adrow8_col0\" class=\"data row8 col0\" >1.604430</td>\n",
       "                        <td id=\"T_4a904f48_aa60_11ea_9a64_76aec331b5adrow8_col1\" class=\"data row8 col1\" >9.041655</td>\n",
       "            </tr>\n",
       "            <tr>\n",
       "                        <th id=\"T_4a904f48_aa60_11ea_9a64_76aec331b5adlevel0_row9\" class=\"row_heading level0 row9\" >KDE_fast</th>\n",
       "                        <td id=\"T_4a904f48_aa60_11ea_9a64_76aec331b5adrow9_col0\" class=\"data row9 col0\" >1.349043</td>\n",
       "                        <td id=\"T_4a904f48_aa60_11ea_9a64_76aec331b5adrow9_col1\" class=\"data row9 col1\" >0.406260</td>\n",
       "            </tr>\n",
       "            <tr>\n",
       "                        <th id=\"T_4a904f48_aa60_11ea_9a64_76aec331b5adlevel0_row10\" class=\"row_heading level0 row10\" >LSSVM_fast</th>\n",
       "                        <td id=\"T_4a904f48_aa60_11ea_9a64_76aec331b5adrow10_col0\" class=\"data row10 col0\" >8.469933</td>\n",
       "                        <td id=\"T_4a904f48_aa60_11ea_9a64_76aec331b5adrow10_col1\" class=\"data row10 col1\" >0.757119</td>\n",
       "            </tr>\n",
       "            <tr>\n",
       "                        <th id=\"T_4a904f48_aa60_11ea_9a64_76aec331b5adlevel0_row11\" class=\"row_heading level0 row11\" >RandomForest_fast</th>\n",
       "                        <td id=\"T_4a904f48_aa60_11ea_9a64_76aec331b5adrow11_col0\" class=\"data row11 col0\" >2409.592761</td>\n",
       "                        <td id=\"T_4a904f48_aa60_11ea_9a64_76aec331b5adrow11_col1\" class=\"data row11 col1\" >110.321268</td>\n",
       "            </tr>\n",
       "    </tbody></table>"
      ],
      "text/plain": [
       "<pandas.io.formats.style.Styler at 0x7f3b6a63ad68>"
      ]
     },
     "metadata": {},
     "output_type": "display_data"
    },
    {
     "name": "stdout",
     "output_type": "stream",
     "text": [
      "generic100000\n"
     ]
    },
    {
     "data": {
      "text/html": [
       "<style  type=\"text/css\" >\n",
       "    #T_4a9299f6_aa60_11ea_9a64_76aec331b5adrow0_col1 {\n",
       "            background-color:  darkorange;\n",
       "        }</style><table id=\"T_4a9299f6_aa60_11ea_9a64_76aec331b5ad\" ><thead>    <tr>        <th class=\"blank level0\" ></th>        <th class=\"col_heading level0 col0\" >CP</th>        <th class=\"col_heading level0 col1\" >CP Parallel</th>    </tr>    <tr>        <th class=\"index_name level0\" >NCM</th>        <th class=\"blank\" ></th>        <th class=\"blank\" ></th>    </tr></thead><tbody>\n",
       "                <tr>\n",
       "                        <th id=\"T_4a9299f6_aa60_11ea_9a64_76aec331b5adlevel0_row0\" class=\"row_heading level0 row0\" >KNN_fast</th>\n",
       "                        <td id=\"T_4a9299f6_aa60_11ea_9a64_76aec331b5adrow0_col0\" class=\"data row0 col0\" >12742.034330</td>\n",
       "                        <td id=\"T_4a9299f6_aa60_11ea_9a64_76aec331b5adrow0_col1\" class=\"data row0 col1\" >3918.190429</td>\n",
       "            </tr>\n",
       "    </tbody></table>"
      ],
      "text/plain": [
       "<pandas.io.formats.style.Styler at 0x7f3b6b008198>"
      ]
     },
     "metadata": {},
     "output_type": "display_data"
    }
   ],
   "source": [
    "def highlight_min(data, color='yellow'):\n",
    "    '''\n",
    "    highlight the minimum in a Series or DataFrame\n",
    "    '''\n",
    "    attr = 'background-color: {}'.format(color)\n",
    "    if data.ndim == 1:  # Series from .apply(axis=0) or axis=1\n",
    "        is_min = data == data.min()\n",
    "        return [attr if v else '' for v in is_min]\n",
    "    else:  # from .apply(axis=None)\n",
    "        is_min = data == data.min().min()\n",
    "        return pd.DataFrame(np.where(is_min, attr, ''),\n",
    "                            index=data.index, columns=data.columns)\n",
    "\n",
    "\n",
    "NCMs = [\"NN\", \"SimplifiedKNN\", \"KNN\", \"KDE\", \"LSSVM\", \"RandomForest\"]\n",
    "NCMs = NCMs + [f\"{ncm}_fast\" for ncm in NCMs]\n",
    "\n",
    "for dataset in [\"generic1000\", \"generic100000\"]:\n",
    "    # Prepare data\n",
    "    print(dataset)\n",
    "    table_results = results[results.dataset==dataset]\n",
    "\n",
    "    table_results = {\n",
    "        \"CP\": table_results.groupby(\"ncm\")[\"CP\"].mean(),\n",
    "        \"CP-std\": table_results.groupby(\"ncm\")[\"CP\"].std(),\n",
    "        \"CP Parallel\": table_results.groupby(\"ncm\")[\"CP Parallel\"].mean(),\n",
    "        \"CP Parallel-std\": table_results.groupby(\"ncm\")[\"CP Parallel\"].std(),\n",
    "    }\n",
    "    table_results = pd.DataFrame(table_results)\n",
    "    table_results.index = pd.Categorical(table_results.index, NCMs)\n",
    "    table_results = table_results.sort_index()\n",
    "\n",
    "    # Nice table on jupyter\n",
    "    table = table_results[[\"CP\", \"CP Parallel\"]]\n",
    "    table.index.name = \"NCM\"\n",
    "    display(table.style.apply(highlight_min,\n",
    "                      color='darkorange',\n",
    "                      axis=1, subset=[\"CP\", \"CP Parallel\"]\n",
    "                     ))"
   ]
  },
  {
   "cell_type": "markdown",
   "metadata": {},
   "source": [
    "# k-NN CP regression"
   ]
  },
  {
   "cell_type": "markdown",
   "metadata": {},
   "source": [
    "Fix a distance $d$. Let $y_{(j)}$ be the label of the $j$-th closest\n",
    "object ($x_{(j)}$) to example $(x, y)$.\n",
    "\n",
    "$$A((x, y); \\{(x_1, y_1), ..., (x_{n}, y_{n})\\}) =\n",
    "    |y-\\frac{1}{k}\\sum_{j=1}^k y_{(j)}|,$$\n",
    "    \n",
    "where the term $\\frac{1}{k}\\sum_{j=1}^k y_{(j)}$ is the k-NN regressor's prediction for $y$."
   ]
  },
  {
   "cell_type": "markdown",
   "metadata": {},
   "source": [
    "## Base implementations\n",
    "\n",
    "### Full CP"
   ]
  },
  {
   "cell_type": "code",
   "execution_count": 610,
   "metadata": {
    "ExecuteTime": {
     "end_time": "2021-01-21T10:51:05.292413Z",
     "start_time": "2021-01-21T10:51:05.269557Z"
    },
    "code_folding": [
     37
    ]
   },
   "outputs": [],
   "source": [
    "class KNNR_CP:\n",
    "    def __init__(self, k):\n",
    "        self.k = k\n",
    "\n",
    "    def train(self, Xtrain, Ytrain):\n",
    "        self.Xtrain = Xtrain\n",
    "        self.Ytrain = Ytrain\n",
    "\n",
    "    def compute_sets(self, x):\n",
    "        # First compute a and b for (x, y).\n",
    "        dist = euclidean_distances([x], self.Xtrain).flatten()\n",
    "        best_idx = best_k_idx(dist, self.k)\n",
    "        a_x = -sum(self.Ytrain[best_idx]) / len(best_idx)\n",
    "        b_x = 1\n",
    "\n",
    "        # Compute the remaining a and b, and construct P and S.\n",
    "        P = []\n",
    "        S = []\n",
    "        for i, (xi, yi) in enumerate(zip(self.Xtrain, self.Ytrain)):\n",
    "            idx = np.array(list(range(len(self.Xtrain))))\n",
    "            dist = euclidean_distances([xi], np.row_stack(([x], self.Xtrain[idx!=i,:]))).flatten()\n",
    "            Ytmp = np.concatenate(([0], self.Ytrain[idx!=i]))\n",
    "            best_idx = best_k_idx(dist, self.k)\n",
    "            # If (x, y) is one of the k-NNs.\n",
    "            w = 1./self.k\n",
    "            ai = yi - w*sum(Ytmp[best_idx])\n",
    "            if 0 in best_idx:\n",
    "                bi = -w\n",
    "            else:\n",
    "                bi = 0\n",
    "            \n",
    "            s, P = self._compute_set(ai, bi, a_x, b_x, P)\n",
    "            S.append(s)\n",
    "            \n",
    "        \n",
    "        return P, S\n",
    "    \n",
    "    def _compute_set(self, ai, bi, a_x, b_x, P):\n",
    "        if bi < 0:\n",
    "            ai = -ai\n",
    "            bi = -bi\n",
    "\n",
    "        if b_x > bi:\n",
    "            p1 = -(ai-a_x)/(bi-b_x)\n",
    "            p2 = -(ai+a_x)/(bi+b_x)\n",
    "            if p1 == p2:\n",
    "                s = {\"type\": \"point\",\n",
    "                     #\"points\": interval([p1, p1]),\n",
    "                     \"j\": (len(P)),\n",
    "                    }\n",
    "                P += [p1]\n",
    "            else:\n",
    "                s = {\"type\": \"interval\",\n",
    "                     #\"points\": interval([p1, p2]),\n",
    "                     \"j\": (len(P), len(P)+1),\n",
    "                    }\n",
    "                P += [p1, p2]\n",
    "        elif b_x < bi:\n",
    "            p1 = -(ai-a_x)/(bi-b_x)\n",
    "            p2 = -(ai+a_x)/(bi+b_x)\n",
    "            s = {\"type\": \"union\",\n",
    "                 #\"points\": interval([-np.inf, p1], [p2, np.inf]),\n",
    "                 \"j\": (len(P), len(P)+1),\n",
    "                }\n",
    "            P += [p1, p2]\n",
    "            counter += 2\n",
    "        elif a_x < ai:\n",
    "            p = -(ai+a_x)/(2*bi)\n",
    "            {\"type\": \"right-ray\",\n",
    "             #\"points\": interval([p, np.inf]),\n",
    "             \"j\": len(P),\n",
    "            }\n",
    "            P.append(p)\n",
    "        elif a_x > ai:\n",
    "            p = -(ai+a_x)/(2*bi)\n",
    "            s = {\"type\": \"left-ray\",\n",
    "                 #\"points\": interval([-np.inf, p]),\n",
    "                 \"j\": len(P),\n",
    "                }\n",
    "            P.append(p)\n",
    "        elif abs(a_x) <= abs(ai):\n",
    "            s = {\"type\": \"line\",\n",
    "                 #\"points\": interval([-np.inf, np.inf]),\n",
    "                }\n",
    "        elif abs(a_x) > abs(ai):\n",
    "            s = {\"type\": \"empty\",\n",
    "                 #\"points\": None,\n",
    "                }\n",
    "        else:\n",
    "            raise Exception(\"Unhandled! Shouldn't happen.\")\n",
    "        \n",
    "        return s, P\n",
    "    \n",
    "    def predict(self, x, epsilon):\n",
    "        P, S = self.compute_sets(x)\n",
    "        # Sort P, and create a dict to map to associate\n",
    "        # points in the sets S[i] to points in (sorted) P.\n",
    "        P, K = zip(*sorted(zip(P, range(len(P)))))\n",
    "        # Note: the range() is shifted by 1 because we need\n",
    "        # to add -infinity to the beginning of P.\n",
    "        S_to_P = dict(zip(K, range(1, len(P)+1)))\n",
    "        \n",
    "        P = [-np.infty] + list(P) + [np.infty]\n",
    "        m = len(P) - 2\n",
    "        N = np.zeros(m+1)\n",
    "        M = np.zeros(m)\n",
    "        \n",
    "        for i in range(len(self.Xtrain)):\n",
    "            if S[i][\"type\"] == \"empty\":\n",
    "                pass\n",
    "            elif S[i][\"type\"] == \"point\":\n",
    "                j = S[i][\"j\"]\n",
    "                j = S_to_P[j]\n",
    "                M[j-1] +=1\n",
    "            elif S[i][\"type\"] == \"interval\":\n",
    "                j1, j2 = S[i][\"j\"]\n",
    "                j1, j2 = S_to_P[j1], S_to_P[j2]\n",
    "                j1, j2 = (j1, j2) if j1 < j2 else (j2, j1)\n",
    "                M[j1-1:j2] += 1\n",
    "                N[j1:j2] += 1\n",
    "            elif S[i][\"type\"] == \"right-ray\":\n",
    "                j = S[i][\"j\"]\n",
    "                j = S_to_P[j]\n",
    "                M[j-1:] += 1\n",
    "                N[j:] += 1\n",
    "            elif S[i][\"type\"] == \"left-ray\":\n",
    "                j = S[i][\"j\"]\n",
    "                j = S_to_P[j]\n",
    "                M[j-1:] += 1\n",
    "                N[j:] += 1\n",
    "            elif S[i][\"type\"] == \"union\":\n",
    "                j1, j2 = S[i][\"j\"]\n",
    "                j1, j2 = S_to_P[j1], S_to_P[j2]\n",
    "                j1, j2 = (j1, j2) if j1 < j2 else (j2, j1)\n",
    "                M[:j1-1] += 1\n",
    "                M[j2-1:] += 1\n",
    "                N[:j1-1] += 1\n",
    "                N[j2:] += 1\n",
    "            elif S[i][\"type\"] == \"line\":\n",
    "                M += 1\n",
    "                N += 1\n",
    "            else:\n",
    "                raise Exception(\"Unhandled! Shouldn't happen.\")\n",
    "\n",
    "        # Union of intervals.\n",
    "        ints = []\n",
    "        for j in range(len(N)):\n",
    "            if (N[j] / (len(self.Xtrain)+1.)) > epsilon:\n",
    "                ints.append([P[j], P[j+1]])\n",
    "        \n",
    "        # Exact solution:\n",
    "        #for j in range(len(M)):\n",
    "        #    if (M[j] / (len(self.Xtrain)+1.)) > epsilon:\n",
    "        #        ints.append([P[j], P[j]])\n",
    "\n",
    "        pred = interval(*ints)\n",
    "\n",
    "        return pred"
   ]
  },
  {
   "cell_type": "markdown",
   "metadata": {},
   "source": [
    "### Full CP Optimized"
   ]
  },
  {
   "cell_type": "code",
   "execution_count": null,
   "metadata": {},
   "outputs": [],
   "source": [
    "def chunked_euclidean_distances(X, working_memory=2**14):\n",
    "    for chunk in pairwise_distances_chunked(X, working_memory=working_memory):\n",
    "        for dist in chunk:\n",
    "            yield dist"
   ]
  },
  {
   "cell_type": "code",
   "execution_count": 613,
   "metadata": {
    "ExecuteTime": {
     "end_time": "2021-01-21T11:01:28.078168Z",
     "start_time": "2021-01-21T11:01:28.066382Z"
    },
    "code_folding": []
   },
   "outputs": [],
   "source": [
    "class KNNR_CP_fast(KNNR_CP):\n",
    "    def __init__(self, k):\n",
    "        self.k = k\n",
    "\n",
    "    def train(self, Xtrain, Ytrain):\n",
    "        self.Xtrain = Xtrain\n",
    "        self.Ytrain = Ytrain\n",
    "        \n",
    "        # Precomputations.\n",
    "        A = []\n",
    "        D = []\n",
    "        Y_max = []\n",
    "        \n",
    "        all_dists = chunked_euclidean_distances(Xtrain)\n",
    "\n",
    "        for i, (dist, yi) in enumerate(zip(all_dists, Ytrain)):\n",
    "            dist = np.delete(dist, i)\n",
    "            Ytmp = np.delete(Ytrain, i)\n",
    "            best_idx = best_k_idx(dist, self.k)\n",
    "\n",
    "            # These \"ai\" don't account for the contribution of the test example.\n",
    "            w = 1./self.k\n",
    "            ai = yi - w*sum(Ytmp[best_idx])\n",
    "            A.append(ai)\n",
    "\n",
    "            # Keep track of largest distance (and label), in preparation for updates.\n",
    "            idx = np.argmax(dist[best_idx])\n",
    "            D.append(dist[best_idx][idx])\n",
    "            Y_max.append(Ytmp[best_idx][idx])\n",
    "\n",
    "        \n",
    "        self.A = A\n",
    "        self.D = D\n",
    "        self.Y_max = Y_max\n",
    "\n",
    "    def compute_sets(self, x):\n",
    "        # First compute a and b for (x, y).\n",
    "        dist = euclidean_distances([x], self.Xtrain).flatten()\n",
    "        best_idx = best_k_idx(dist, self.k)\n",
    "        a_x = -sum(self.Ytrain[best_idx]) / len(best_idx)\n",
    "        b_x = 1\n",
    "        w = 1./self.k\n",
    "\n",
    "        # Update the remaining a and b, and construct P.\n",
    "        P = []\n",
    "        S = []\n",
    "        for d_x, ai, di, y_max in zip(dist, self.A, self.D, self.Y_max):\n",
    "            # Check if (x, y) is one of the k-NNs.\n",
    "            if d_x < di:\n",
    "                # Remove contribution of y_max (which isn't a k-NN anymore).\n",
    "                # NOTE: as per algorithm, there's no need to add the contribution of y to ai.\n",
    "                ai += w*y_max\n",
    "                # Update bi.\n",
    "                bi = -w\n",
    "            else:\n",
    "                bi = 0\n",
    "            \n",
    "            if bi < 0:\n",
    "                ai = -ai\n",
    "                bi = -bi\n",
    "            \n",
    "            s, P = self._compute_set(ai, bi, a_x, b_x, P)\n",
    "            S.append(s)\n",
    "        \n",
    "        return P, S"
   ]
  },
  {
   "cell_type": "markdown",
   "metadata": {},
   "source": [
    "### Unit tests for regression"
   ]
  },
  {
   "cell_type": "code",
   "execution_count": 628,
   "metadata": {
    "ExecuteTime": {
     "end_time": "2021-01-21T11:11:43.255738Z",
     "start_time": "2021-01-21T11:11:40.282505Z"
    },
    "code_folding": [],
    "scrolled": true
   },
   "outputs": [
    {
     "name": "stdout",
     "output_type": "stream",
     "text": [
      "Testing: KNNR_CP, KNNR_CP_fast\n"
     ]
    },
    {
     "name": "stderr",
     "output_type": "stream",
     "text": [
      ".\n",
      "----------------------------------------------------------------------\n",
      "Ran 1 test in 2.967s\n",
      "\n",
      "OK\n"
     ]
    }
   ],
   "source": [
    "class KNNRTests(unittest.TestCase):\n",
    "    \n",
    "    def setUp(self):    \n",
    "        np.random.seed(0)\n",
    "        X, Y = make_regression (200)\n",
    "        \n",
    "        self.Xtrain, self.Xtest, self.Ytrain, self.Ytest = train_test_split(X, Y, test_size=100)\n",
    "    \n",
    "    @parameterized.expand([\n",
    "        [KNNR_CP(5), KNNR_CP_fast(5)],\n",
    "    ])\n",
    "    def test_equivalent(self, cp_a, cp_b, rtol=1e-07):\n",
    "        \"\"\"Are standard and optimized ncms equivalent?\n",
    "        \"\"\"\n",
    "        print(f\"Testing: {cp_a.__class__.__name__}, {cp_b.__class__.__name__}\")\n",
    "        \n",
    "        eps = 0.1\n",
    "        \n",
    "        cp_a.train(self.Xtrain, self.Ytrain)\n",
    "        cp_b.train(self.Xtrain, self.Ytrain)\n",
    "\n",
    "        for x, y in zip(self.Xtest, self.Ytest):            \n",
    "            pred_a = cp_a.predict(x, eps)\n",
    "            pred_b = cp_b.predict(x, eps)\n",
    "            np.testing.assert_allclose(pred_a, pred_b, rtol=rtol)\n",
    "\n",
    "\n",
    "suite = unittest.defaultTestLoader.loadTestsFromTestCase(KNNRTests)\n",
    "_ = unittest.TextTestRunner().run(suite)"
   ]
  },
  {
   "cell_type": "code",
   "execution_count": 616,
   "metadata": {
    "ExecuteTime": {
     "end_time": "2021-01-21T11:03:33.009185Z",
     "start_time": "2021-01-21T11:03:32.999267Z"
    },
    "code_folding": [
     0
    ]
   },
   "outputs": [],
   "source": [
    "def knn_cp_regressor_predict(Xtrain, Ytrain, Xtest, Ytest, k, epsilon, fast=True,\n",
    "                             return_time=False, timeout=None):\n",
    "    \n",
    "    if fast:\n",
    "        cp = KNNR_CP_fast(k)\n",
    "    else:\n",
    "        cp = KNNR_CP(k)\n",
    "\n",
    "    # Train nonconformity measure\n",
    "    start = time.perf_counter()\n",
    "    cp.train(Xtrain, Ytrain)\n",
    "    train_time = time.perf_counter() - start\n",
    "\n",
    "    # Compute predictions\n",
    "    start = time.perf_counter()\n",
    "    prediction_times = []\n",
    "    reached_timeout = False\n",
    "\n",
    "    preds = []\n",
    "    \n",
    "    for x, y in zip(Xtest, Ytest):\n",
    "        pred = cp.predict(x, epsilon)\n",
    "        preds.append(pred)\n",
    "\n",
    "        # Store time\n",
    "        t = time.perf_counter() - start\n",
    "        prediction_times.append(t)\n",
    "        \n",
    "        # Check if reached timeout\n",
    "        if timeout and t > timeout:\n",
    "            reached_timeout = True\n",
    "            break\n",
    "    \n",
    "    if return_time:\n",
    "        return np.array(preds), {\"training_time\": train_time,\n",
    "                                 \"prediction_time\": prediction_times,\n",
    "                                 \"reached_timeout\": reached_timeout,\n",
    "                                }\n",
    "    else:\n",
    "        return np.array(preds)"
   ]
  },
  {
   "cell_type": "markdown",
   "metadata": {},
   "source": [
    "### ICP"
   ]
  },
  {
   "cell_type": "code",
   "execution_count": 327,
   "metadata": {
    "ExecuteTime": {
     "end_time": "2021-01-19T15:28:05.737070Z",
     "start_time": "2021-01-19T15:28:05.734462Z"
    }
   },
   "outputs": [],
   "source": [
    "def best_k_idx(a, k):\n",
    "    \"\"\"Returns the index of the smallest `k` elements of `a`.\n",
    "    \"\"\"\n",
    "    if len(a) <= k:\n",
    "        return a\n",
    "\n",
    "    return np.argpartition(a, k)[:k]"
   ]
  },
  {
   "cell_type": "code",
   "execution_count": 326,
   "metadata": {
    "ExecuteTime": {
     "end_time": "2021-01-19T15:28:05.126106Z",
     "start_time": "2021-01-19T15:28:05.121299Z"
    },
    "code_folding": [
     0
    ]
   },
   "outputs": [],
   "source": [
    "class KNNR(NCM):\n",
    "    def __init__(self, k=15):\n",
    "        self.k = k\n",
    "\n",
    "    def train_ncm(self, X, Y):\n",
    "        X = np.array(X)\n",
    "        Y = np.array(Y)\n",
    "        \n",
    "        def scorer(x, y):\n",
    "            dist = euclidean_distances([x], X).flatten()\n",
    "            best_idx = best_k_idx(dist, self.k)\n",
    "            \n",
    "            # NOTE: len(best_idx) could be less than self.k.\n",
    "            pred = sum(Y[best_idx]) / len(best_idx)\n",
    "            \n",
    "            return abs(y - pred)\n",
    "        \n",
    "        return scorer"
   ]
  },
  {
   "cell_type": "code",
   "execution_count": 646,
   "metadata": {
    "ExecuteTime": {
     "end_time": "2021-01-21T11:49:43.137681Z",
     "start_time": "2021-01-21T11:49:43.129489Z"
    },
    "code_folding": [
     0
    ]
   },
   "outputs": [],
   "source": [
    "def icp_regressor_predict(Xtrain, Ytrain, Xcalib, Ycalib, Xtest, Ytest, k, epsilon,\n",
    "                          return_time=False, timeout=None):\n",
    "    ncm = KNNR(k)\n",
    "    # Train nonconformity measure\n",
    "    start = time.perf_counter()\n",
    "    ncm.train(Xtrain, Ytrain, inductive=True)\n",
    "    train_time = time.perf_counter() - start\n",
    "    \n",
    "    # Calibrate\n",
    "    start = time.perf_counter()\n",
    "    scores = []\n",
    "    for x, y in zip(Xcalib, Ycalib):\n",
    "        scores.append(ncm.compute_scores(x, y, only_score_x=True))\n",
    "    scores = np.array(scores)\n",
    "    calibration_time = time.perf_counter() - start\n",
    "\n",
    "    # Compute predictions\n",
    "    start = time.perf_counter()\n",
    "    prediction_times = []\n",
    "    reached_timeout = False\n",
    "\n",
    "    scores = sorted(scores, reverse=True)\n",
    "    s = int(np.floor(epsilon*len(scores)))\n",
    "    alpha_s = scores[s]\n",
    "    \n",
    "    preds = []\n",
    "    for x, y in zip(Xtest, Ytest):\n",
    "        pred = ncm.ncm(x, y)\n",
    "        preds.append((pred-alpha_s, pred+alpha_s))\n",
    "        t = time.perf_counter() - start\n",
    "        prediction_times.append(t)\n",
    "\n",
    "        # Check if reached timeout\n",
    "        if timeout and t > timeout:\n",
    "            reached_timeout = True\n",
    "            break\n",
    "    \n",
    "    pred_time = time.perf_counter() - start\n",
    "    \n",
    "    if return_time:\n",
    "        return np.array(preds), {\"training_time\": train_time,\n",
    "                                 \"calibration_time\": calibration_time,\n",
    "                                 \"prediction_time\": prediction_times,\n",
    "                                 \"reached_timeout\": reached_timeout,\n",
    "                                }\n",
    "    else:\n",
    "        return np.array(preds)"
   ]
  },
  {
   "cell_type": "markdown",
   "metadata": {},
   "source": [
    "## Experiments"
   ]
  },
  {
   "cell_type": "markdown",
   "metadata": {},
   "source": [
    "### CP vs optimized CP vs ICP\n",
    "\n",
    "We run the experiments for training size $n \\in [10, 10^5]$."
   ]
  },
  {
   "cell_type": "code",
   "execution_count": 643,
   "metadata": {
    "ExecuteTime": {
     "end_time": "2021-01-21T11:48:15.651106Z",
     "start_time": "2021-01-21T11:48:15.645313Z"
    }
   },
   "outputs": [],
   "source": [
    "def evaluate_cp_regressor(train_size, max_test_size, n_dimensions,\n",
    "                          inductive_cp, optimized, calibration_size, timeout):\n",
    "    epsilon = 0.1\n",
    "    k = 10\n",
    "    # Discard invalid parameter sets.\n",
    "    if inductive_cp and calibration_size is None:\n",
    "        return\n",
    "    if not inductive_cp and calibration_size is not None:\n",
    "        return\n",
    "    if inductive_cp and optimized:\n",
    "        return\n",
    "\n",
    "    X, Y = make_regression(train_size+max_test_size, n_dimensions)\n",
    "\n",
    "    Xtrain, Xtest, Ytrain, Ytest = train_test_split(X, Y, test_size=max_test_size)\n",
    "\n",
    "    if inductive_cp:\n",
    "        Xtrain, Xcalib, Ytrain, Ycalib = train_test_split(Xtrain, Ytrain,\n",
    "                                                          test_size=calibration_size)\n",
    "        _, times = icp_regressor_predict(Xtrain, Ytrain, Xcalib, Ycalib, Xtest,\n",
    "                                         Ytest, k, epsilon, return_time=True,\n",
    "                                         timeout=timeout)\n",
    "    else:\n",
    "        _, times = knn_cp_regressor_predict(Xtrain, Ytrain, Xtest, Ytest, k, epsilon,\n",
    "                                            fast=optimized, return_time=True, timeout=timeout)\n",
    "    \n",
    "    return times"
   ]
  },
  {
   "cell_type": "code",
   "execution_count": 669,
   "metadata": {
    "ExecuteTime": {
     "end_time": "2021-01-22T13:49:12.235582Z",
     "start_time": "2021-01-22T13:49:12.232088Z"
    },
    "tags": [
     "experiment:regression-timing"
    ]
   },
   "outputs": [],
   "source": [
    "EXPERIMENT_NAME = \"regression-training-size-comparison\"\n",
    "RESULTS_DIR = \"results/\"\n",
    "REPETITIONS = 5\n",
    "TRAIN_SIZE = np.logspace(1, 5, 13, dtype='int').tolist()\n",
    "MAX_TEST_SIZE = 100\n",
    "N_DIMENSIONS = 30\n",
    "TIMEOUT = 60*60*10"
   ]
  },
  {
   "cell_type": "code",
   "execution_count": null,
   "metadata": {
    "ExecuteTime": {
     "end_time": "2021-01-21T11:53:23.134041Z",
     "start_time": "2021-01-21T11:50:11.277770Z"
    },
    "scrolled": false,
    "tags": [
     "experiment:regression-timing"
    ]
   },
   "outputs": [],
   "source": [
    "eli = Eli(RESULTS_DIR)\n",
    "eli.run_experiment(exp_name=EXPERIMENT_NAME,\n",
    "                   func=evaluate_cp_regressor,\n",
    "                   repetitions=REPETITIONS,\n",
    "                   n_jobs=20,\n",
    "                   automatic_seed=True,\n",
    "                   # Parameters\n",
    "                   train_size=TRAIN_SIZE,\n",
    "                   max_test_size=MAX_TEST_SIZE,\n",
    "                   n_dimensions=N_DIMENSIONS,\n",
    "                   inductive_cp=[True, False],\n",
    "                   optimized=[True, False],\n",
    "                   calibration_size=[None, 0.5],\n",
    "                   timeout=TIMEOUT,\n",
    "                  )"
   ]
  },
  {
   "cell_type": "markdown",
   "metadata": {},
   "source": [
    "#### Plots"
   ]
  },
  {
   "cell_type": "code",
   "execution_count": 60,
   "metadata": {
    "ExecuteTime": {
     "end_time": "2021-02-01T15:30:17.993029Z",
     "start_time": "2021-02-01T15:30:17.127765Z"
    },
    "tags": [
     "plots"
    ]
   },
   "outputs": [
    {
     "name": "stdout",
     "output_type": "stream",
     "text": [
      "175 observations\n"
     ]
    },
    {
     "data": {
      "text/html": [
       "<div>\n",
       "<style scoped>\n",
       "    .dataframe tbody tr th:only-of-type {\n",
       "        vertical-align: middle;\n",
       "    }\n",
       "\n",
       "    .dataframe tbody tr th {\n",
       "        vertical-align: top;\n",
       "    }\n",
       "\n",
       "    .dataframe thead th {\n",
       "        text-align: right;\n",
       "    }\n",
       "</style>\n",
       "<table border=\"1\" class=\"dataframe\">\n",
       "  <thead>\n",
       "    <tr style=\"text-align: right;\">\n",
       "      <th></th>\n",
       "      <th>name</th>\n",
       "      <th>training_time</th>\n",
       "      <th>calibration_time</th>\n",
       "      <th>prediction_time</th>\n",
       "      <th>reached_timeout</th>\n",
       "      <th>train_size</th>\n",
       "      <th>max_test_size</th>\n",
       "      <th>n_dimensions</th>\n",
       "      <th>inductive_cp</th>\n",
       "      <th>optimized</th>\n",
       "      <th>calibration_size</th>\n",
       "      <th>timeout</th>\n",
       "      <th>repetition</th>\n",
       "      <th>git-commit</th>\n",
       "      <th>started</th>\n",
       "      <th>finished</th>\n",
       "      <th>avg_time</th>\n",
       "    </tr>\n",
       "  </thead>\n",
       "  <tbody>\n",
       "    <tr>\n",
       "      <th>0</th>\n",
       "      <td>train_size=46-max_test_size=100-n_dimensions=3...</td>\n",
       "      <td>0.000038</td>\n",
       "      <td>0.003018</td>\n",
       "      <td>[0.00021340400007829885, 0.0003716080000231159...</td>\n",
       "      <td>False</td>\n",
       "      <td>46</td>\n",
       "      <td>100</td>\n",
       "      <td>30</td>\n",
       "      <td>True</td>\n",
       "      <td>False</td>\n",
       "      <td>0.5</td>\n",
       "      <td>36000</td>\n",
       "      <td>0</td>\n",
       "      <td>d400510e20c6d0e1ff3bd6e67dc5b22b0ca79169</td>\n",
       "      <td>2021-01-22T12:25:21.545696+00:00</td>\n",
       "      <td>2021-01-22T12:25:21.572890+00:00</td>\n",
       "      <td>0.000105</td>\n",
       "    </tr>\n",
       "    <tr>\n",
       "      <th>1</th>\n",
       "      <td>train_size=46-max_test_size=100-n_dimensions=3...</td>\n",
       "      <td>0.000021</td>\n",
       "      <td>0.003501</td>\n",
       "      <td>[0.0001549040000554669, 0.00028090599994357035...</td>\n",
       "      <td>False</td>\n",
       "      <td>46</td>\n",
       "      <td>100</td>\n",
       "      <td>30</td>\n",
       "      <td>True</td>\n",
       "      <td>False</td>\n",
       "      <td>0.5</td>\n",
       "      <td>36000</td>\n",
       "      <td>1</td>\n",
       "      <td>d400510e20c6d0e1ff3bd6e67dc5b22b0ca79169</td>\n",
       "      <td>2021-01-22T12:25:21.602766+00:00</td>\n",
       "      <td>2021-01-22T12:25:21.626677+00:00</td>\n",
       "      <td>0.000138</td>\n",
       "    </tr>\n",
       "    <tr>\n",
       "      <th>2</th>\n",
       "      <td>train_size=46-max_test_size=100-n_dimensions=3...</td>\n",
       "      <td>0.000016</td>\n",
       "      <td>0.002162</td>\n",
       "      <td>[9.860199998001917e-05, 0.00017920400000548398...</td>\n",
       "      <td>False</td>\n",
       "      <td>46</td>\n",
       "      <td>100</td>\n",
       "      <td>30</td>\n",
       "      <td>True</td>\n",
       "      <td>False</td>\n",
       "      <td>0.5</td>\n",
       "      <td>36000</td>\n",
       "      <td>2</td>\n",
       "      <td>d400510e20c6d0e1ff3bd6e67dc5b22b0ca79169</td>\n",
       "      <td>2021-01-22T12:25:21.649670+00:00</td>\n",
       "      <td>2021-01-22T12:25:21.672520+00:00</td>\n",
       "      <td>0.000123</td>\n",
       "    </tr>\n",
       "    <tr>\n",
       "      <th>3</th>\n",
       "      <td>train_size=46-max_test_size=100-n_dimensions=3...</td>\n",
       "      <td>0.000059</td>\n",
       "      <td>0.002435</td>\n",
       "      <td>[0.00011590299982344732, 0.0001984040000024833...</td>\n",
       "      <td>False</td>\n",
       "      <td>46</td>\n",
       "      <td>100</td>\n",
       "      <td>30</td>\n",
       "      <td>True</td>\n",
       "      <td>False</td>\n",
       "      <td>0.5</td>\n",
       "      <td>36000</td>\n",
       "      <td>3</td>\n",
       "      <td>d400510e20c6d0e1ff3bd6e67dc5b22b0ca79169</td>\n",
       "      <td>2021-01-22T12:25:21.404809+00:00</td>\n",
       "      <td>2021-01-22T12:25:21.435993+00:00</td>\n",
       "      <td>0.000114</td>\n",
       "    </tr>\n",
       "    <tr>\n",
       "      <th>4</th>\n",
       "      <td>train_size=46-max_test_size=100-n_dimensions=3...</td>\n",
       "      <td>0.000017</td>\n",
       "      <td>0.003168</td>\n",
       "      <td>[0.0001632030000564555, 0.0003098060001320846,...</td>\n",
       "      <td>False</td>\n",
       "      <td>46</td>\n",
       "      <td>100</td>\n",
       "      <td>30</td>\n",
       "      <td>True</td>\n",
       "      <td>False</td>\n",
       "      <td>0.5</td>\n",
       "      <td>36000</td>\n",
       "      <td>4</td>\n",
       "      <td>d400510e20c6d0e1ff3bd6e67dc5b22b0ca79169</td>\n",
       "      <td>2021-01-22T12:25:21.462862+00:00</td>\n",
       "      <td>2021-01-22T12:25:21.484100+00:00</td>\n",
       "      <td>0.000098</td>\n",
       "    </tr>\n",
       "  </tbody>\n",
       "</table>\n",
       "</div>"
      ],
      "text/plain": [
       "                                                name  training_time  \\\n",
       "0  train_size=46-max_test_size=100-n_dimensions=3...       0.000038   \n",
       "1  train_size=46-max_test_size=100-n_dimensions=3...       0.000021   \n",
       "2  train_size=46-max_test_size=100-n_dimensions=3...       0.000016   \n",
       "3  train_size=46-max_test_size=100-n_dimensions=3...       0.000059   \n",
       "4  train_size=46-max_test_size=100-n_dimensions=3...       0.000017   \n",
       "\n",
       "   calibration_time                                    prediction_time  \\\n",
       "0          0.003018  [0.00021340400007829885, 0.0003716080000231159...   \n",
       "1          0.003501  [0.0001549040000554669, 0.00028090599994357035...   \n",
       "2          0.002162  [9.860199998001917e-05, 0.00017920400000548398...   \n",
       "3          0.002435  [0.00011590299982344732, 0.0001984040000024833...   \n",
       "4          0.003168  [0.0001632030000564555, 0.0003098060001320846,...   \n",
       "\n",
       "   reached_timeout  train_size  max_test_size  n_dimensions  inductive_cp  \\\n",
       "0            False          46            100            30          True   \n",
       "1            False          46            100            30          True   \n",
       "2            False          46            100            30          True   \n",
       "3            False          46            100            30          True   \n",
       "4            False          46            100            30          True   \n",
       "\n",
       "   optimized  calibration_size  timeout  repetition  \\\n",
       "0      False               0.5    36000           0   \n",
       "1      False               0.5    36000           1   \n",
       "2      False               0.5    36000           2   \n",
       "3      False               0.5    36000           3   \n",
       "4      False               0.5    36000           4   \n",
       "\n",
       "                                 git-commit                           started  \\\n",
       "0  d400510e20c6d0e1ff3bd6e67dc5b22b0ca79169  2021-01-22T12:25:21.545696+00:00   \n",
       "1  d400510e20c6d0e1ff3bd6e67dc5b22b0ca79169  2021-01-22T12:25:21.602766+00:00   \n",
       "2  d400510e20c6d0e1ff3bd6e67dc5b22b0ca79169  2021-01-22T12:25:21.649670+00:00   \n",
       "3  d400510e20c6d0e1ff3bd6e67dc5b22b0ca79169  2021-01-22T12:25:21.404809+00:00   \n",
       "4  d400510e20c6d0e1ff3bd6e67dc5b22b0ca79169  2021-01-22T12:25:21.462862+00:00   \n",
       "\n",
       "                           finished  avg_time  \n",
       "0  2021-01-22T12:25:21.572890+00:00  0.000105  \n",
       "1  2021-01-22T12:25:21.626677+00:00  0.000138  \n",
       "2  2021-01-22T12:25:21.672520+00:00  0.000123  \n",
       "3  2021-01-22T12:25:21.435993+00:00  0.000114  \n",
       "4  2021-01-22T12:25:21.484100+00:00  0.000098  "
      ]
     },
     "execution_count": 60,
     "metadata": {},
     "output_type": "execute_result"
    }
   ],
   "source": [
    "# Load data\n",
    "\n",
    "eli = Eli(RESULTS_DIR)\n",
    "results = eli.fetch_results(\"regression-training-size-comparison\")\n",
    "\n",
    "print(f\"{len(results)} observations\")\n",
    "\n",
    "TIMEOUT = 60*60*10\n",
    "\n",
    "avgerage_time = lambda vec: np.concatenate((\n",
    "                                [vec[0]],\n",
    "                                pd.Series(vec).diff()[1:]\n",
    "                            )).mean()\n",
    "\n",
    "results[\"avg_time\"] = results.prediction_time.apply(avgerage_time)\n",
    "\n",
    "results.head()"
   ]
  },
  {
   "cell_type": "markdown",
   "metadata": {},
   "source": [
    "Producing **Figure 3**."
   ]
  },
  {
   "cell_type": "code",
   "execution_count": 59,
   "metadata": {
    "ExecuteTime": {
     "end_time": "2021-01-27T11:40:07.716306Z",
     "start_time": "2021-01-27T11:40:06.644359Z"
    }
   },
   "outputs": [
    {
     "data": {
      "image/png": "[encoded data removed]",
      "text/plain": [
       "<Figure size 324x302.4 with 1 Axes>"
      ]
     },
     "metadata": {},
     "output_type": "display_data"
    }
   ],
   "source": [
    "fig, ax = plt.subplots(1, 1, figsize=(4.5, 4.2))\n",
    "\n",
    "colors = sns.color_palette()\n",
    "plot_data = results\n",
    "sns.lineplot(x=\"train_size\", y=\"avg_time\",\n",
    "             data=plot_data[(plot_data.inductive_cp==False) & (plot_data.optimized==False)],\n",
    "             ax=ax, legend=None, label=\"Papadopoulos et al. (2011)\",\n",
    "             color=colors[0])\n",
    "sns.lineplot(x=\"train_size\", y=\"avg_time\",\n",
    "             data=plot_data[plot_data.optimized==True],\n",
    "             ax=ax, legend=None, label=\"Optimized\",\n",
    "             color=colors[1])\n",
    "sns.lineplot(x=\"train_size\", y=\"avg_time\",\n",
    "             data=plot_data[plot_data.inductive_cp==True],\n",
    "             ax=ax, legend=None, label=\"ICP\",\n",
    "             color=colors[-3])\n",
    "ax.lines[0].set_linestyle(\"--\")\n",
    "ax.lines[2].set_linestyle(\":\")\n",
    "\n",
    "#ax.plot(range(10**5), [TIMEOUT]*10**5, color='0.30', ls=':')\n",
    "ax.set_yscale(\"log\")\n",
    "ax.xaxis.set_major_formatter(ticker.EngFormatter())\n",
    "ax.grid()\n",
    "ax.set_xlim([0, 10**5])\n",
    "ax.set_ylim([10**-4, 10**5])\n",
    "ax.set_xlabel(\"Training set size\")\n",
    "ax.set_ylabel(\"Average prediction time (s)\")\n",
    "ax.legend(title=\"\", loc=\"upper left\", frameon=True) #, labels=[\"Standard\", \"Optimized\"])\n",
    "\n",
    "plt.tight_layout()\n",
    "plt.savefig(f\"../paper/img/regression-comparison.pdf\", dpi=DPI)"
   ]
  },
  {
   "cell_type": "markdown",
   "metadata": {},
   "source": [
    "### Numbers\n",
    "\n",
    "Numbers reported in the text."
   ]
  },
  {
   "cell_type": "code",
   "execution_count": 67,
   "metadata": {
    "ExecuteTime": {
     "end_time": "2021-02-01T15:32:34.695452Z",
     "start_time": "2021-02-01T15:32:34.684123Z"
    }
   },
   "outputs": [
    {
     "name": "stdout",
     "output_type": "stream",
     "text": [
      "CP k-NN optimized avg pred (100k): 9.378226860476017 seconds\n",
      "CP k-NN avg pred (100k): 1.0043190490667768 hours\n",
      "ICP k-NN avg pred (100k): 0.004631520570000702 seconds\n"
     ]
    }
   ],
   "source": [
    "print(\"CP k-NN optimized avg pred (100k): {} seconds\".format(\n",
    "            results[(results.optimized==True) &\n",
    "                    (results.train_size==100000) &\n",
    "                    (results.inductive_cp==False)].avg_time.mean()))\n",
    "print(\"CP k-NN avg pred (100k): {} hours\".format(\n",
    "            results[(results.optimized==False) &\n",
    "                    (results.train_size==100000) &\n",
    "                    (results.inductive_cp==False)].avg_time.mean()/60/60))\n",
    "print(\"ICP k-NN avg pred (100k): {} seconds\".format(\n",
    "            results[(results.optimized==False) &\n",
    "                    (results.train_size==100000) &\n",
    "                    (results.inductive_cp==True)].avg_time.mean()))"
   ]
  },
  {
   "cell_type": "markdown",
   "metadata": {},
   "source": [
    "# Bootstrap calculations\n",
    "\n",
    "We estimate empirically the value $E[B']$."
   ]
  },
  {
   "cell_type": "code",
   "execution_count": 441,
   "metadata": {
    "ExecuteTime": {
     "end_time": "2020-06-08T16:07:06.383762Z",
     "start_time": "2020-06-08T16:07:06.377380Z"
    }
   },
   "outputs": [],
   "source": [
    "from itertools import count\n",
    "\n",
    "def count_bprime(B, n):\n",
    "    data_idx = list(range(n))\n",
    "    E = {i: 0 for i in data_idx}\n",
    "    \n",
    "    for bprime in count():\n",
    "        Zb = resample(data_idx)\n",
    "        sampled = set(Zb)\n",
    "        to_check = list(E.keys())  # Necessary to prevent issues in iterating dict.\n",
    "        for i in to_check:\n",
    "            if not i in sampled:\n",
    "                # Bootstrap sample Zb can be used for example i.\n",
    "                E[i] += 1\n",
    "                # To speed up B' estimation, remove E[i] when full.\n",
    "                if E[i] == B:\n",
    "                    del E[i]\n",
    "\n",
    "        # Check if all are satisfied.\n",
    "        if not E:\n",
    "            break\n",
    "    \n",
    "    return bprime"
   ]
  },
  {
   "cell_type": "code",
   "execution_count": 468,
   "metadata": {
    "ExecuteTime": {
     "end_time": "2020-06-08T16:20:49.669819Z",
     "start_time": "2020-06-08T16:17:39.052096Z"
    }
   },
   "outputs": [
    {
     "data": {
      "text/html": [
       "<div>\n",
       "<style scoped>\n",
       "    .dataframe tbody tr th:only-of-type {\n",
       "        vertical-align: middle;\n",
       "    }\n",
       "\n",
       "    .dataframe tbody tr th {\n",
       "        vertical-align: top;\n",
       "    }\n",
       "\n",
       "    .dataframe thead th {\n",
       "        text-align: right;\n",
       "    }\n",
       "</style>\n",
       "<table border=\"1\" class=\"dataframe\">\n",
       "  <thead>\n",
       "    <tr style=\"text-align: right;\">\n",
       "      <th></th>\n",
       "      <th>seed</th>\n",
       "      <th>B</th>\n",
       "      <th>n</th>\n",
       "      <th>B'</th>\n",
       "    </tr>\n",
       "  </thead>\n",
       "  <tbody>\n",
       "    <tr>\n",
       "      <th>0</th>\n",
       "      <td>0</td>\n",
       "      <td>2</td>\n",
       "      <td>100</td>\n",
       "      <td>14</td>\n",
       "    </tr>\n",
       "    <tr>\n",
       "      <th>1</th>\n",
       "      <td>1</td>\n",
       "      <td>2</td>\n",
       "      <td>100</td>\n",
       "      <td>15</td>\n",
       "    </tr>\n",
       "    <tr>\n",
       "      <th>2</th>\n",
       "      <td>2</td>\n",
       "      <td>2</td>\n",
       "      <td>100</td>\n",
       "      <td>14</td>\n",
       "    </tr>\n",
       "    <tr>\n",
       "      <th>3</th>\n",
       "      <td>3</td>\n",
       "      <td>2</td>\n",
       "      <td>100</td>\n",
       "      <td>20</td>\n",
       "    </tr>\n",
       "    <tr>\n",
       "      <th>4</th>\n",
       "      <td>4</td>\n",
       "      <td>2</td>\n",
       "      <td>100</td>\n",
       "      <td>24</td>\n",
       "    </tr>\n",
       "  </tbody>\n",
       "</table>\n",
       "</div>"
      ],
      "text/plain": [
       "   seed  B    n  B'\n",
       "0     0  2  100  14\n",
       "1     1  2  100  15\n",
       "2     2  2  100  14\n",
       "3     3  2  100  20\n",
       "4     4  2  100  24"
      ]
     },
     "execution_count": 468,
     "metadata": {},
     "output_type": "execute_result"
    }
   ],
   "source": [
    "REPETITIONS = 10\n",
    "\n",
    "results = defaultdict(list)\n",
    "\n",
    "for b in [2, 5, 10, 20, 50, 100]:\n",
    "    for n in [100, 1000, 10000, 100000]:\n",
    "        for seed in range(REPETITIONS):\n",
    "            results[\"seed\"].append(seed)\n",
    "            results[\"B\"].append(b)\n",
    "            results[\"n\"].append(n)\n",
    "            results[\"B'\"].append(count_bprime(b, n))\n",
    "\n",
    "results = pd.DataFrame(results)\n",
    "results.to_csv(\"results/bootstrap-bprime.csv\")\n",
    "results.head()"
   ]
  },
  {
   "cell_type": "markdown",
   "metadata": {},
   "source": [
    "Producing **Figure 4**."
   ]
  },
  {
   "cell_type": "code",
   "execution_count": 486,
   "metadata": {
    "ExecuteTime": {
     "end_time": "2020-06-08T16:27:34.848529Z",
     "start_time": "2020-06-08T16:27:34.036257Z"
    }
   },
   "outputs": [
    {
     "data": {
      "image/png": "[encoded data removed]",
      "text/plain": [
       "<Figure size 324x302.4 with 1 Axes>"
      ]
     },
     "metadata": {},
     "output_type": "display_data"
    }
   ],
   "source": [
    "results = pd.read_csv(\"results/bootstrap-bprime.csv\")\n",
    "plt.figure(figsize=(4.5, 4.2))\n",
    "sns.lineplot(\"B\", \"B'\", data=results, hue=\"n\", legend=\"full\")\n",
    "plt.grid()\n",
    "plt.xlim([0, results.B.max()])\n",
    "plt.ylim([0, 400])\n",
    "plt.legend(loc=\"best\", frameon=True)\n",
    "plt.ylabel(\"B'   \", rotation=0)\n",
    "\n",
    "plt.tight_layout()\n",
    "plt.savefig(\"../paper/img/bprime.png\", dpi=DPI)"
   ]
  },
  {
   "cell_type": "markdown",
   "metadata": {},
   "source": [
    "The following, `bprime()`, calculates the expectation $E[B']$ exactly,\n",
    "but it is computational heavy."
   ]
  },
  {
   "cell_type": "code",
   "execution_count": 421,
   "metadata": {
    "ExecuteTime": {
     "end_time": "2020-06-04T16:55:59.524283Z",
     "start_time": "2020-06-04T16:55:59.515567Z"
    },
    "scrolled": false
   },
   "outputs": [],
   "source": [
    "from itertools import permutations\n",
    "\n",
    "P = np.exp(-1)\n",
    "cache = {}\n",
    "\n",
    "def bprime(counts):\n",
    "    counts = list(filter(lambda x: x != 0, counts))\n",
    "    if len(counts) == 0:\n",
    "        return 0\n",
    "    elif len(counts) == 1:\n",
    "        return counts[0]/P\n",
    "    \n",
    "    key = tuple(sorted(counts))\n",
    "    if key in cache:\n",
    "        return cache[key]\n",
    "\n",
    "    n = len(counts)\n",
    "    p2 = (1-(1-P)**n)\n",
    "    e = 1\n",
    "    # k is how many are subtracted.\n",
    "    # k>1 (i.e., there's at least one success),\n",
    "    # since p2 already accounts for the recursion\n",
    "    # on bprime(counts)\n",
    "    for k in range(1, n+1):\n",
    "        # happens with probability:\n",
    "        p1 = P**k*(1-P)**(n-k)\n",
    "        # Generate all the possible movements.\n",
    "        for sub in combinations(range(n), k):\n",
    "            new_counts = counts.copy()\n",
    "            for i in sub:\n",
    "                if new_counts[i] > 0:\n",
    "                    new_counts[i] -= 1\n",
    "            e += p1*bprime(new_counts)\n",
    "    \n",
    "    e /= p2\n",
    "    \n",
    "    cache[key] = e\n",
    "\n",
    "    return e\n",
    "\n",
    "\n",
    "assert bprime([0, 0, 2, 0, 0, 0]) == 2/P\n",
    "assert bprime([1, 1]) == (3-2*P)/(1-(1-P)**2)\n",
    "assert bprime([0, 0, 1, 0, 1, 0]) == (3-2*P)/(1-(1-P)**2)\n",
    "assert bprime([2, 1]) == (3 - P + bprime([1, 1])*P*(1-P))/(1-(1-P)**2)"
   ]
  }
 ],
 "metadata": {
  "celltoolbar": "Tags",
  "hide_input": false,
  "jupytext": {
   "formats": "ipynb,md"
  },
  "kernelspec": {
   "display_name": "ml",
   "language": "python",
   "name": "ml"
  },
  "language_info": {
   "codemirror_mode": {
    "name": "ipython",
    "version": 3
   },
   "file_extension": ".py",
   "mimetype": "text/x-python",
   "name": "python",
   "nbconvert_exporter": "python",
   "pygments_lexer": "ipython3",
   "version": "3.8.6"
  },
  "notify_time": "10",
  "toc": {
   "base_numbering": 1,
   "nav_menu": {},
   "number_sections": true,
   "sideBar": true,
   "skip_h1_title": false,
   "title_cell": "Table of Contents",
   "title_sidebar": "Contents",
   "toc_cell": true,
   "toc_position": {
    "height": "calc(100% - 180px)",
    "left": "10px",
    "top": "150px",
    "width": "256px"
   },
   "toc_section_display": true,
   "toc_window_display": true
  }
 },
 "nbformat": 4,
 "nbformat_minor": 2
}
